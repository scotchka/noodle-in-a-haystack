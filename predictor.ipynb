{
 "metadata": {
  "name": ""
 },
 "nbformat": 3,
 "nbformat_minor": 0,
 "worksheets": [
  {
   "cells": [
    {
     "cell_type": "code",
     "collapsed": false,
     "input": [
      "import numpy as np\n",
      "import pickle\n",
      "vectorizer = pickle.load(open('vectorizer.pickle'))\n",
      "cpt = pickle.load(open('cpt.pickle'))\n",
      "priors = pickle.load(open('priors.pickle'))\n",
      "label_lookup = pickle.load(open('label_lookup.pickle'))"
     ],
     "language": "python",
     "metadata": {},
     "outputs": [],
     "prompt_number": 1
    },
    {
     "cell_type": "code",
     "collapsed": false,
     "input": [
      "def section(text):\n",
      "    \n",
      "    article = vectorizer.transform([text]).toarray().tolist()[0]\n",
      "    \n",
      "    for i, feature in enumerate(article):\n",
      "        if feature > 0:\n",
      "            article[i] = 1\n",
      "            \n",
      "    article = np.matrix(article).transpose()\n",
      "    \n",
      "    penalty = []\n",
      "    for i in range(len(label_lookup)):\n",
      "        p = 0\n",
      "        for j in range(cpt.shape[1]):\n",
      "            if article[j,0] > 0 and cpt[i,j] == 0:\n",
      "                p += 1\n",
      "        penalty.append(p)\n",
      "        \n",
      "    penalty = np.matrix(np.array(penalty)).transpose()\n",
      "    \n",
      "    posteriors = (cpt*article)+priors+penalty*(-10.5)\n",
      "    \n",
      "    label_idx = max([(posterior,i) for i,posterior in enumerate(posteriors.transpose().tolist()[0])])[1]\n",
      "    \n",
      "    result = [label for label in label_lookup.keys() if label_lookup[label] == label_idx]\n",
      "\n",
      "    return result[0]"
     ],
     "language": "python",
     "metadata": {},
     "outputs": [],
     "prompt_number": 2
    },
    {
     "cell_type": "code",
     "collapsed": false,
     "input": [
      "test_text = '''The Restaurant Takeaway column is devoted to restaurant dishes you can make in your own kitchen, tested and tweaked for home cooks.\n",
      "\n",
      "I had always considered simple syrup to be nothing more than the liquid sugar often responsible for making my cocktail too darn sweet. Yes, a restrained drizzle was often necessary to offset the lemon or lime in the shaker. But beyond that, I thought its usefulness was moot.\n",
      "\n",
      "What I never realized was that in the hands of a great mixologist, simple syrup can add a lot more than just sweetness to the mix.\n",
      "\n",
      "For example, when the syrup is concentrated and thick, it also adds body and viscosity, making your daiquiri feel like velvet on the tongue. Most simple-syrup recipes call for equal parts sugar to water. But to make a more concentrated syrup, some bartenders prefer two parts sugar to one part water.\n",
      "\n",
      "Then there\u2019s the variety of sugar used. While white granulated may taste purely sweet, different types of brown sugar can lend all kinds of interesting flavor notes ranging from caramel to butterscotch to faint hints of burnt sugar. In general, the darker the sugar, the stronger and more intense the molasses component will be.\n",
      "\n",
      "I learned all this from Joaqu\u00edn Sim\u00f3 of Pouring Ribbons, an East Village bar. After one small sip, I knew his sidecar was different from (and better than) any other sidecar I had tried before. The rather simple secret was the simple syrup. He used a concentrated concoction made from two parts Demerara sugar to one part water, which added a compelling toffee-like taste and silky texture to the amber booze.\n",
      "\n",
      "Brown-sugar simple syrups are also wonderful in nonalcoholic drinks, particularly lemonade and ice tea, and they will last for months in the fridge. Or try this Demerara syrup poured over cubed pineapple or yogurt. It turns out, not all simple syrups are as simple as you\u2019d think.'''"
     ],
     "language": "python",
     "metadata": {},
     "outputs": [],
     "prompt_number": 9
    },
    {
     "cell_type": "code",
     "collapsed": false,
     "input": [
      "print section(test_text)"
     ],
     "language": "python",
     "metadata": {},
     "outputs": [
      {
       "output_type": "stream",
       "stream": "stdout",
       "text": [
        "Dining & Wine\n"
       ]
      }
     ],
     "prompt_number": 10
    },
    {
     "cell_type": "code",
     "collapsed": false,
     "input": [],
     "language": "python",
     "metadata": {},
     "outputs": []
    }
   ],
   "metadata": {}
  }
 ]
}