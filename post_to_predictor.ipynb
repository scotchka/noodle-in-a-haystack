{
 "metadata": {
  "name": ""
 },
 "nbformat": 3,
 "nbformat_minor": 0,
 "worksheets": [
  {
   "cells": [
    {
     "cell_type": "code",
     "collapsed": false,
     "input": [
      "import requests"
     ],
     "language": "python",
     "metadata": {},
     "outputs": [],
     "prompt_number": 8
    },
    {
     "cell_type": "code",
     "collapsed": false,
     "input": [
      "text = '''\n",
      "Stalled pallets of goods idling at ports. Reduced foot traffic at sandwich shops in downtown Washington. Canceled vacations to national parks and to destinations abroad. Slashed corporate earnings forecasts. Higher interest payments on short-term debt.\n",
      "\n",
      "Even as the shutdown of the United States government and the threat of a default appear to be coming to an end, the cost of Congress\u2019s gridlock has already run well into the billions, economists estimate. And the total will continue to grow after the shutdown ends and uncertainty persists about whether lawmakers might reach another deadlock next year.\n",
      "\n",
      "A complete accounting might take months to put together once the government reopens and the Treasury returns to adding to the country\u2019s debt. But economists said that the intransigence of House Republicans would take a bite out of fourth-quarter growth, with knock-on effects for employment, business earnings and borrowing costs. Those effects would be global.\n",
      "\n",
      "\u201cWe saw huge effects during the summer of 2011, with consumer confidence hitting a 31-year low in August and third-quarter G.D.P. growing just 1.4 percent,\u201d said Beth Ann Bovino, the chief United States economist at Standard & Poor\u2019s. \u201cGiven that this round of debt ceiling negotiations\u201d is coming during a shutdown, she said, \u201cthe impact on the economy could be even more severe.\u201d\n",
      "\n",
      "Economists were quick to point out that the shutdown and near-breach of the debt ceiling would be unlikely to derail the recovery, given that Congress now appears likely to resolve the impasse in the next few days. In the weeks after the government reopened, there might be a \u201csnap back\u201d as employees spent their paychecks for the days they were on furlough and the government rushed to process backlogged orders. Still, many businesses might not recover all of the money they would have made had the government operated normally, said Shai Akabas of the Bipartisan Policy Center, a Washington-based research group.\n",
      "\n",
      "The two-week shutdown has trimmed about 0.3 percentage points from fourth-quarter growth, the forecasting firm Macroeconomic Advisers, based in St. Louis, has estimated. Standard & Poor\u2019s, the New York ratings agency, estimates that the shutdown will cut about 0.3 percent off inflation-adjusted G.D.P. for each week the shutdown drags on. Most analysts are predicting that growth will remain subpar, probably running at an annual pace of around 2 percent.\n",
      "\n",
      "The shutdown has already led to the biggest plunge in consumer confidence since the collapse of Lehman Brothers in 2008. And it has had ripple effects on many industries that rely on the federal government in one way or another. Import inspections, export financing and oil and gas permitting have come to a halt, in some cases.\n",
      "\n",
      "Residential real estate, which has been one of the brightest points of the recovery, appears to be taking a hit. An index of sentiment among home builders fell in October from a month earlier, according to data out Wednesday from the National Association of Home Builders. The drop was greater than analysts expected. One cause for the decline is that the approval process for government-backed mortgages has slowed with the shutdown.\n",
      "\n",
      "While companies have generally reporting healthy earnings for the third quarter, an unusual number have been warning that the fourth quarter is not going to look as good, in part because of the political turmoil. Of the 105 companies in the Standard & Poor\u2019s 500-stock index that have reported earnings so far, 68 have provided negative guidance, according to S&P Capital IQ.\n",
      "\n",
      "The impasse over the debt ceiling has already raised the United States\u2019 short-term borrowing costs, with investors demanding triple the interest payments they demanded just a few weeks ago, in some cases. Concerns about the United States as a borrower might have a much longer and deeper effect than the shutdown, analysts think.\n",
      "\n",
      "\u201cEven with a deal to avoid a default, the damage has been done by the fact that we have had a debate questioning whether the U.S. will pay back its debt,\u201d Laurence D. Fink, the chief executive of the money manager BlackRock, said Wednesday morning. That means higher borrowing costs in the United States, and elsewhere. The World Bank has estimated that a similar standoff in 2011 raised borrowing costs in poor countries by about 0.75 percentage point, and that those costs remained elevated for months.\n",
      "\n",
      "\u201cThe reputational damage is done,\u201d said Markus Schomer, chief economist at PineBridge Investments in New York. \u201cRegardless of whether we get a deal, there will be efforts to diversify away from the United States in terms of assets.\u201d\n",
      "\n",
      "Mr. Schomer also warned that the continuing fiscal gridlock in Washington would take a toll on growth not just in the short term but in the long term as well. In the absence of a broad deal that addresses entitlement spending as well as the budget deficit, \u201cyou will have perpetual uncertainty,\u201d he said. \u201cAnd that will undermine the U.S. role in the world much more than a default.\u201d\n",
      "\n",
      "Moreover, this latest budget impasse comes after years of similar episodes, and the economic ramifications have accumulated over time, analysts say. A new Macroeconomic Advisers report, prepared for the Peter G. Peterson Foundation, estimates the costs of the fiscal uncertainty of the last few years. Its model suggested that since late 2009, that uncertainty has increased certain corporate borrowing costs by 0.38 percentage point, lowered economic growth by 0.3 percentage point a year and raised this year\u2019s unemployment rate by 0.6 percentage point. That translates into 900,000 lost jobs.\n",
      "\n",
      "The unusually quick pace of deficit reduction \u2014 in part because of the trillion dollars in budget cuts over a decade known as sequestration \u2014 has had a much deeper effect on growth than the relatively brief shutdown, economists said. Additional cuts would slow the economy even more, they argue.\n",
      "\n",
      "\u201cWe are baffled by the idea that the pace of deficit reduction needs to be increased, given how rapidly the picture is improving already,\u201d Ian Shepherdson, the chief economist of Pantheon Macroeconomics, wrote in a note to clients.\n",
      "\n",
      "And while Congress may have resolved this impasse, many experts fear that it has laid the groundwork for new ones in January and beyond. \u201cThen we can come back some time in December, January and February and do this all over again,\u201d said Brian Gardner of Keefe, Bruyette & Woods, a New York investment bank.\n",
      "'''"
     ],
     "language": "python",
     "metadata": {},
     "outputs": [],
     "prompt_number": 46
    },
    {
     "cell_type": "code",
     "collapsed": false,
     "input": [
      "r = requests.post('http://127.0.0.1:5000', files = {'blah':text})\n",
      "print r.content"
     ],
     "language": "python",
     "metadata": {},
     "outputs": [
      {
       "output_type": "stream",
       "stream": "stdout",
       "text": [
        "Business Day\n"
       ]
      }
     ],
     "prompt_number": 57
    }
   ],
   "metadata": {}
  }
 ]
}