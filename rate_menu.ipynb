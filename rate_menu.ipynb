{
 "metadata": {
  "name": ""
 },
 "nbformat": 3,
 "nbformat_minor": 0,
 "worksheets": [
  {
   "cells": [
    {
     "cell_type": "code",
     "collapsed": false,
     "input": [
      "import fuzzy, pickle\n",
      "import numpy as np\n",
      "import re\n",
      "\n",
      "cpt = pickle.load(open('cpt.pickle'))\n",
      "vectorizer = pickle.load(open('vectorizer.pickle'))\n",
      "pos_all = pickle.load(open('pos.pickle'))\n",
      "\n",
      "def sound_like(s):\n",
      "    '''\n",
      "    Given string of words, returns string of sound equivalents.\n",
      "    '''\n",
      "    sound = fuzzy.nysiis #pick algorithm\n",
      "    word_list =  s.split()\n",
      "    sound_list = []\n",
      "    for word in word_list:\n",
      "        if sound(word):\n",
      "            sound_list.append(sound(word))\n",
      "    return ' '.join(sound_list)\n",
      "\n",
      "def fuzzy_items(items):\n",
      "    '''\n",
      "    Given list of menu items, return list of sound encoded items\n",
      "    '''\n",
      "    return [sound_like(item) for item in items if sound_like(item)]\n",
      "\n",
      "def rating(p,pos):\n",
      "    if p < pos.mean() - pos.std():\n",
      "        return '***'\n",
      "    elif p < pos.mean() + pos.std():\n",
      "        return '**'\n",
      "    else:\n",
      "        return '*'\n",
      "\n",
      "def rate_menu(menu):\n",
      "    '''\n",
      "    Given menu as string, each item on separate line, returns rated menu as string.\n",
      "    '''\n",
      "    items = [item.strip() for item in re.split(r'\\n[^a-zA-Z]+\\n',menu) if item.strip()]\n",
      "    \n",
      "    items_sound = fuzzy_items(items)\n",
      "    \n",
      "    vectors = vectorizer.transform(items_sound)\n",
      "    \n",
      "    for ij in zip(vectors.nonzero()[0], vectors.nonzero()[1]):\n",
      "        vectors[ij] = 1\n",
      "    \n",
      "    vectors = np.matrix(vectors.toarray()).transpose()\n",
      "    \n",
      "    penalty = []\n",
      "    for item in items_sound:\n",
      "        p = 0\n",
      "        for word in item.lower().split():\n",
      "            if word.strip() not in vectorizer.get_feature_names():\n",
      "                p += 1\n",
      "        penalty.append(p)\n",
      "    penalty = np.matrix(penalty)\n",
      "    \n",
      "    word_count = np.matrix([len(item.split()) for item in items_sound])\n",
      "    \n",
      "    pos = (cpt*vectors + penalty*-10)/word_count\n",
      "    \n",
      "    rated_items = []\n",
      "    for item in zip(pos.tolist()[0], items):\n",
      "        rated_items.append(rating(item[0],pos_all) + '\\t' + item[1][:80])\n",
      "        \n",
      "    return '\\n'.join(rated_items), zip(pos.tolist()[0], items)"
     ],
     "language": "python",
     "metadata": {},
     "outputs": [],
     "prompt_number": 16
    },
    {
     "cell_type": "code",
     "collapsed": false,
     "input": [
      "menu = '''  Stir-Fried Pork Jowl & Winter Radishes\n",
      "Fermented black bean, mint, red perilla, steamed rice\n",
      "7.00\n",
      "\n",
      "Hainam Chicken Rice\n",
      "Dressed in shaoxing wine & chicken fat, roasted peanuts, cilantro\n",
      "11.00\n",
      "\n",
      "Westlake Rice Porridge\n",
      "Oxtail, dungeness crab, soft-poached egg, cilantro\n",
      "11.00\n",
      "\n",
      "Ma Po Tofu\n",
      "Ground kurobuta pork shoulder, szechuan peppercorn, chili oil, steamed rice\n",
      "11.00\n",
      "\n",
      "Kung Pao Pastrami\n",
      "Explosive\u200c chili, celery, potato, roasted peanut; steamed rice\n",
      "11.00\n",
      "\n",
      "Thrice Cooked Bacon\n",
      "Rice cakes, bitter melon, tofu skin, scallion, black bean, chili oil\n",
      "11.00\n",
      "\n",
      "Broccoli Beef Cheek\n",
      "Gai lan, poached oyster, smoked oyster sauce, steamed rice\n",
      "10.00\n",
      "\n",
      "Mongolian Long Beans\n",
      "Leeks, roasted chili, horseradish, garlic shoots, steamed rice\n",
      "12.00\n",
      "\n",
      "Shanghainese Chow Mein\n",
      "Pulled pork trotter, rock shrimp, pickled mustard greens, napa cabbage\n",
      "10.00\n",
      "\n",
      "Salt Cod Fried Rice\n",
      "Escolar confit, chinese sausage, egg, scallion\n",
      "13.00\n",
      "\n",
      "Sizzling Cumin Lamb\n",
      "Salt & peppered lamb belly, chili-pickled long beans\n",
      "11.00\n",
      "\n",
      "Guilin Lamb Noodle Soup\n",
      "Braised lamb cheek, rice noodle, pickles, peanuts, pea shoots\n",
      "11.00\n",
      "\n",
      "Wild Pepper Leaves\n",
      "Pressed\u200c tofu, salted chili broth, pumpkin\n",
      "12.00\n",
      "\n",
      "Smoked Beef Brisket Soup Noodles\n",
      "Cheung fun, mire poix, bok choy, cardamom broth\n",
      "10.00\n",
      "\n",
      "Stewed Beef Tongue & Turnips\n",
      "Tendon terrine, hot mustard, pickled burdock root\n",
      "     '''"
     ],
     "language": "python",
     "metadata": {},
     "outputs": [],
     "prompt_number": 17
    },
    {
     "cell_type": "code",
     "collapsed": false,
     "input": [
      "print rate_menu(menu)[0]"
     ],
     "language": "python",
     "metadata": {},
     "outputs": [
      {
       "output_type": "stream",
       "stream": "stdout",
       "text": [
        "***\tStir-Fried Pork Jowl & Winter Radishes\n",
        "Fermented black bean, mint, red perilla, \n",
        "**\tHainam Chicken Rice\n",
        "Dressed in shaoxing wine & chicken fat, roasted peanuts, cil\n",
        "***\tWestlake Rice Porridge\n",
        "Oxtail, dungeness crab, soft-poached egg, cilantro\n",
        "**\tMa Po Tofu\n",
        "Ground kurobuta pork shoulder, szechuan peppercorn, chili oil, steame\n",
        "**\tKung Pao Pastrami\n",
        "Explosive\u200c chili, celery, potato, roasted peanut; steamed ri\n",
        "**\tThrice Cooked Bacon\n",
        "Rice cakes, bitter melon, tofu skin, scallion, black bean, c\n",
        "**\tBroccoli Beef Cheek\n",
        "Gai lan, poached oyster, smoked oyster sauce, steamed rice\n",
        "**\tMongolian Long Beans\n",
        "Leeks, roasted chili, horseradish, garlic shoots, steamed r\n",
        "***\tShanghainese Chow Mein\n",
        "Pulled pork trotter, rock shrimp, pickled mustard greens,\n",
        "**\tSalt Cod Fried Rice\n",
        "Escolar confit, chinese sausage, egg, scallion\n",
        "**\tSizzling Cumin Lamb\n",
        "Salt & peppered lamb belly, chili-pickled long beans\n",
        "**\tGuilin Lamb Noodle Soup\n",
        "Braised lamb cheek, rice noodle, pickles, peanuts, pea s\n",
        "***\tWild Pepper Leaves\n",
        "Pressed\u200c tofu, salted chili broth, pumpkin\n",
        "**\tSmoked Beef Brisket Soup Noodles\n",
        "Cheung fun, mire poix, bok choy, cardamom broth\n",
        "***\tStewed Beef Tongue & Turnips\n",
        "Tendon terrine, hot mustard, pickled burdock root\n"
       ]
      }
     ],
     "prompt_number": 20
    },
    {
     "cell_type": "code",
     "collapsed": false,
     "input": [
      "import json"
     ],
     "language": "python",
     "metadata": {},
     "outputs": [],
     "prompt_number": 1
    },
    {
     "cell_type": "code",
     "collapsed": false,
     "input": [
      "data = json.load(open('details.json'))"
     ],
     "language": "python",
     "metadata": {},
     "outputs": [],
     "prompt_number": 2
    },
    {
     "cell_type": "code",
     "collapsed": false,
     "input": [
      "sections=[]\n",
      "def get_items(detail):\n",
      "    '''\n",
      "    Given restaurant, returns (id, name, url, list of menu items)\n",
      "    '''\n",
      "    menu_items = []\n",
      "    #print detail['name'],'\\n'\n",
      "    for menu in detail['menus']:\n",
      "        #print menu['menu_name']\n",
      "        for section in menu['sections']:\n",
      "            #sections.append(re.sub(r'[^a-zA-Z]',' ',section['section_name']).lower().strip())\n",
      "            sections.append(section['section_name'].lower().strip())\n",
      "            #print section['section_name']\n",
      "            for subsection in section['subsections']:\n",
      "                #print '\\t\\t',subsection['subsection_name']\n",
      "                for item in subsection['contents']:\n",
      "                    if item['type'] == 'ITEM':\n",
      "                        menu_item = [item['name']]\n",
      "                        if 'description' in item.keys():\n",
      "                            menu_item.append(item['description'])\n",
      "                        menu_items.append(' '.join(menu_item))\n",
      "    return detail['id'],detail['name'],detail['website_url'],menu_items, \\\n",
      "        detail['lat'], detail['long'], detail['street_address']\n",
      "\n",
      "# reduce data\n",
      "restaurants = []\n",
      "for item in data:\n",
      "    r_id, name, url, menu_items, latitude, longitude, street = get_items(item)\n",
      "    restaurant = {'id':r_id, 'name':name, 'url':url, 'items':menu_items, \n",
      "                  'lat':latitude, 'long':longitude, 'street':street }\n",
      "    restaurants.append(restaurant)"
     ],
     "language": "python",
     "metadata": {},
     "outputs": [],
     "prompt_number": 50
    },
    {
     "cell_type": "code",
     "collapsed": false,
     "input": [
      "%pylab inline"
     ],
     "language": "python",
     "metadata": {},
     "outputs": [
      {
       "output_type": "stream",
       "stream": "stdout",
       "text": [
        "Populating the interactive namespace from numpy and matplotlib\n"
       ]
      }
     ],
     "prompt_number": 23
    },
    {
     "cell_type": "code",
     "collapsed": false,
     "input": [
      "(a,b,c)=hist(pos_all.tolist()[0],bins=50)\n",
      "vlines((pos_all.mean()-pos_all.std(), pos_all.mean(), pos_all.mean()+pos_all.std()), 0 ,2500, colors='r')"
     ],
     "language": "python",
     "metadata": {},
     "outputs": [
      {
       "metadata": {},
       "output_type": "pyout",
       "prompt_number": 30,
       "text": [
        "<matplotlib.collections.LineCollection at 0x73795d0>"
       ]
      },
      {
       "metadata": {},
       "output_type": "display_data",
       "png": "[encoded data removed]",
       "text": [
        "<matplotlib.figure.Figure at 0x7379550>"
       ]
      }
     ],
     "prompt_number": 30
    },
    {
     "cell_type": "code",
     "collapsed": false,
     "input": [
      "recommendations = []\n",
      "i=0\n",
      "for resto in restaurants:\n",
      "    i+=1\n",
      "    print i, resto['name']\n",
      "    recommend_item = sorted([item for item in rate_menu('\\n\\n\\n'.join(resto['items']))[1] \n",
      "        if item[0] < pos_all.mean()-pos_all.std()])[-1]\n",
      "    \n",
      "    overall = np.array([item[0] for item in rate_menu('\\n\\n\\n'.join(resto['items']))[1]]).mean()\n",
      "    \n",
      "    recommendations.append( {'id':resto['id'],'lat':resto['lat'], 'long':resto['long'], \n",
      "           'restaurant':resto['name'], 'street':resto['street'], 'url':resto['url'],\n",
      "           'overall':overall, 'item':recommend_item[1], 'rating':recommend_item[0]} )\n"
     ],
     "language": "python",
     "metadata": {},
     "outputs": [
      {
       "output_type": "stream",
       "stream": "stdout",
       "text": [
        "1 Enjoy Vegetarian Restaurant\n",
        "2"
       ]
      },
      {
       "output_type": "stream",
       "stream": "stdout",
       "text": [
        " Eastern Sea\n",
        "3"
       ]
      },
      {
       "output_type": "stream",
       "stream": "stdout",
       "text": [
        " Henry's Hunan Restaurant\n",
        "4"
       ]
      },
      {
       "output_type": "stream",
       "stream": "stdout",
       "text": [
        " The Far East Caf\u00e9\n",
        "5"
       ]
      },
      {
       "output_type": "stream",
       "stream": "stdout",
       "text": [
        " Tonga Room & Hurricane Bar - Fairmont San Francisco\n",
        "6"
       ]
      },
      {
       "output_type": "stream",
       "stream": "stdout",
       "text": [
        " Washington Bakery & Restaurant\n",
        "7"
       ]
      },
      {
       "output_type": "stream",
       "stream": "stdout",
       "text": [
        " City Chopsticks\n",
        "8"
       ]
      },
      {
       "output_type": "stream",
       "stream": "stdout",
       "text": [
        " Chinatown Restaurant\n",
        "9"
       ]
      },
      {
       "output_type": "stream",
       "stream": "stdout",
       "text": [
        " The Pot Sticker Restaurant\n",
        "10"
       ]
      },
      {
       "output_type": "stream",
       "stream": "stdout",
       "text": [
        " San Sun Restaurant\n",
        "11"
       ]
      },
      {
       "output_type": "stream",
       "stream": "stdout",
       "text": [
        " Imperial Palace\n",
        "12"
       ]
      },
      {
       "output_type": "stream",
       "stream": "stdout",
       "text": [
        " Four Seas Restaurant\n",
        "13"
       ]
      },
      {
       "output_type": "stream",
       "stream": "stdout",
       "text": [
        " Penang Garden Restaurant\n",
        "14"
       ]
      },
      {
       "output_type": "stream",
       "stream": "stdout",
       "text": [
        " Empress of China\n",
        "15"
       ]
      },
      {
       "output_type": "stream",
       "stream": "stdout",
       "text": [
        " Grant Palace Restaurant\n",
        "16"
       ]
      },
      {
       "output_type": "stream",
       "stream": "stdout",
       "text": [
        " Vungtau Restaurant\n",
        "17"
       ]
      },
      {
       "output_type": "stream",
       "stream": "stdout",
       "text": [
        " Bund Shanghai Restaurant\n",
        "18"
       ]
      },
      {
       "output_type": "stream",
       "stream": "stdout",
       "text": [
        " New Asia Restaurant\n",
        "19"
       ]
      },
      {
       "output_type": "stream",
       "stream": "stdout",
       "text": [
        " Brandy Ho's Hunan Food\n",
        "20"
       ]
      },
      {
       "output_type": "stream",
       "stream": "stdout",
       "text": [
        " R & G Lounge\n",
        "21"
       ]
      },
      {
       "output_type": "stream",
       "stream": "stdout",
       "text": [
        " El Raigon\n",
        "22"
       ]
      },
      {
       "output_type": "stream",
       "stream": "stdout",
       "text": [
        " Green Garden Restaurant\n",
        "23"
       ]
      },
      {
       "output_type": "stream",
       "stream": "stdout",
       "text": [
        " Dick Lee BBQ & Dim Sum\n",
        "24"
       ]
      },
      {
       "output_type": "stream",
       "stream": "stdout",
       "text": [
        " Z&Y Restaurant\n",
        "25"
       ]
      },
      {
       "output_type": "stream",
       "stream": "stdout",
       "text": [
        " Hunan Home's Restaurant\n",
        "26"
       ]
      },
      {
       "output_type": "stream",
       "stream": "stdout",
       "text": [
        " Izakaya Ju-Ku\n",
        "27"
       ]
      },
      {
       "output_type": "stream",
       "stream": "stdout",
       "text": [
        " Kams\n",
        "28"
       ]
      },
      {
       "output_type": "stream",
       "stream": "stdout",
       "text": [
        " Ton Kiang Restaurant\n",
        "29"
       ]
      },
      {
       "output_type": "stream",
       "stream": "stdout",
       "text": [
        " Golden Gate Dim Sum Inc\n",
        "30"
       ]
      },
      {
       "output_type": "stream",
       "stream": "stdout",
       "text": [
        " Tsing Tao Resturant\n",
        "31"
       ]
      },
      {
       "output_type": "stream",
       "stream": "stdout",
       "text": [
        " House of Banquet\n",
        "32"
       ]
      },
      {
       "output_type": "stream",
       "stream": "stdout",
       "text": [
        " Creations Dessert House\n",
        "33"
       ]
      },
      {
       "output_type": "stream",
       "stream": "stdout",
       "text": [
        " Spices II\n",
        "34"
       ]
      },
      {
       "output_type": "stream",
       "stream": "stdout",
       "text": [
        " Burma Superstar\n",
        "35"
       ]
      },
      {
       "output_type": "stream",
       "stream": "stdout",
       "text": [
        " Mandalay\n",
        "36"
       ]
      },
      {
       "output_type": "stream",
       "stream": "stdout",
       "text": [
        " Spices\n",
        "37"
       ]
      },
      {
       "output_type": "stream",
       "stream": "stdout",
       "text": [
        " Dong Bei Mama\n",
        "38"
       ]
      },
      {
       "output_type": "stream",
       "stream": "stdout",
       "text": [
        " Tong Palace\n",
        "39"
       ]
      },
      {
       "output_type": "stream",
       "stream": "stdout",
       "text": [
        " Lee Hou Restaurant\n",
        "40"
       ]
      },
      {
       "output_type": "stream",
       "stream": "stdout",
       "text": [
        " Melisa's Chinese Cuisine\n",
        "41"
       ]
      },
      {
       "output_type": "stream",
       "stream": "stdout",
       "text": [
        " Mango Medley\n",
        "42"
       ]
      },
      {
       "output_type": "stream",
       "stream": "stdout",
       "text": [
        " Asian American Food Co\n",
        "43"
       ]
      },
      {
       "output_type": "stream",
       "stream": "stdout",
       "text": [
        " San Tung Chinese Restaurant\n",
        "44"
       ]
      },
      {
       "output_type": "stream",
       "stream": "stdout",
       "text": [
        " South Sea Seafood Village\n",
        "45"
       ]
      },
      {
       "output_type": "stream",
       "stream": "stdout",
       "text": [
        " Enjoy Vegetarian Restaurant\n",
        "46"
       ]
      },
      {
       "output_type": "stream",
       "stream": "stdout",
       "text": [
        " Dim Sum Bar\n",
        "47"
       ]
      },
      {
       "output_type": "stream",
       "stream": "stdout",
       "text": [
        " Ken's Kitchen\n",
        "48"
       ]
      },
      {
       "output_type": "stream",
       "stream": "stdout",
       "text": [
        " U-Lee\n",
        "49"
       ]
      },
      {
       "output_type": "stream",
       "stream": "stdout",
       "text": [
        " Bamboo Restaurant\n",
        "50"
       ]
      },
      {
       "output_type": "stream",
       "stream": "stdout",
       "text": [
        " Ho's Bar & Restaurant\n",
        "51"
       ]
      },
      {
       "output_type": "stream",
       "stream": "stdout",
       "text": [
        " Lin Jia\n",
        "52"
       ]
      },
      {
       "output_type": "stream",
       "stream": "stdout",
       "text": [
        " Phnom Penh House\n",
        "53"
       ]
      },
      {
       "output_type": "stream",
       "stream": "stdout",
       "text": [
        " Tai Chi Restaurant\n",
        "54"
       ]
      },
      {
       "output_type": "stream",
       "stream": "stdout",
       "text": [
        " Le Cheval\n",
        "55"
       ]
      },
      {
       "output_type": "stream",
       "stream": "stdout",
       "text": [
        " Yang Chow Restaurant\n",
        "56"
       ]
      },
      {
       "output_type": "stream",
       "stream": "stdout",
       "text": [
        " Tao Yin Restaurant\n",
        "57"
       ]
      },
      {
       "output_type": "stream",
       "stream": "stdout",
       "text": [
        " Ng's Kitchen\n",
        "58"
       ]
      },
      {
       "output_type": "stream",
       "stream": "stdout",
       "text": [
        " Restaurant Peony\n",
        "59"
       ]
      },
      {
       "output_type": "stream",
       "stream": "stdout",
       "text": [
        " Golden Peacock Restaurant\n",
        "60"
       ]
      },
      {
       "output_type": "stream",
       "stream": "stdout",
       "text": [
        " Hong Kong Fast Food\n",
        "61"
       ]
      },
      {
       "output_type": "stream",
       "stream": "stdout",
       "text": [
        " Oceanic Restaurant\n",
        "62"
       ]
      },
      {
       "output_type": "stream",
       "stream": "stdout",
       "text": [
        " Hot Wok Cafe\n",
        "63"
       ]
      },
      {
       "output_type": "stream",
       "stream": "stdout",
       "text": [
        " The Noodle Shop\n",
        "64"
       ]
      },
      {
       "output_type": "stream",
       "stream": "stdout",
       "text": [
        " Ono Hawaiian BBQ\n",
        "65"
       ]
      },
      {
       "output_type": "stream",
       "stream": "stdout",
       "text": [
        " Little Yangon\n",
        "66"
       ]
      },
      {
       "output_type": "stream",
       "stream": "stdout",
       "text": [
        " sweet mango restaurant Burmese,Chinese and Thai\n",
        "67"
       ]
      },
      {
       "output_type": "stream",
       "stream": "stdout",
       "text": [
        " Taiwan Restaurant Willow Glen\n",
        "68"
       ]
      },
      {
       "output_type": "stream",
       "stream": "stdout",
       "text": [
        " Edna Ray Chinese Restaurant\n",
        "69"
       ]
      },
      {
       "output_type": "stream",
       "stream": "stdout",
       "text": [
        " Uncle Chen Restaurant\n",
        "70"
       ]
      },
      {
       "output_type": "stream",
       "stream": "stdout",
       "text": [
        " Pearl River Chinese Restaurant\n",
        "71"
       ]
      },
      {
       "output_type": "stream",
       "stream": "stdout",
       "text": [
        " Flourishing Garden Restaurant\n",
        "72"
       ]
      },
      {
       "output_type": "stream",
       "stream": "stdout",
       "text": [
        " Bay 101\n",
        "73"
       ]
      },
      {
       "output_type": "stream",
       "stream": "stdout",
       "text": [
        " Wings Chinese Restaurant\n",
        "74"
       ]
      },
      {
       "output_type": "stream",
       "stream": "stdout",
       "text": [
        " Hunan Taste\n",
        "75"
       ]
      },
      {
       "output_type": "stream",
       "stream": "stdout",
       "text": [
        " Markos At Bay 101\n",
        "76"
       ]
      },
      {
       "output_type": "stream",
       "stream": "stdout",
       "text": [
        " Ichiban Sushi\n",
        "77"
       ]
      },
      {
       "output_type": "stream",
       "stream": "stdout",
       "text": [
        " Dak Win Restaurant\n",
        "78"
       ]
      },
      {
       "output_type": "stream",
       "stream": "stdout",
       "text": [
        " Great China Restaurant\n",
        "79"
       ]
      },
      {
       "output_type": "stream",
       "stream": "stdout",
       "text": [
        " Wing's Chinese Restaurant\n",
        "80"
       ]
      },
      {
       "output_type": "stream",
       "stream": "stdout",
       "text": [
        " San Jose Noodle Bar\n",
        "81"
       ]
      },
      {
       "output_type": "stream",
       "stream": "stdout",
       "text": [
        " Jasmine Tea House\n",
        "82"
       ]
      },
      {
       "output_type": "stream",
       "stream": "stdout",
       "text": [
        " Shiso Chinese & Japanese Cuisine\n",
        "83"
       ]
      },
      {
       "output_type": "stream",
       "stream": "stdout",
       "text": [
        " Hunan Chef\n",
        "84"
       ]
      },
      {
       "output_type": "stream",
       "stream": "stdout",
       "text": [
        " Wok & Go\n",
        "85"
       ]
      },
      {
       "output_type": "stream",
       "stream": "stdout",
       "text": [
        " Nulite Kitchen\n",
        "86"
       ]
      },
      {
       "output_type": "stream",
       "stream": "stdout",
       "text": [
        " Pho Bac Hoa Viet\n",
        "87"
       ]
      },
      {
       "output_type": "stream",
       "stream": "stdout",
       "text": [
        " China Cafe\n",
        "88"
       ]
      },
      {
       "output_type": "stream",
       "stream": "stdout",
       "text": [
        " Alice's Restaurant\n",
        "89"
       ]
      },
      {
       "output_type": "stream",
       "stream": "stdout",
       "text": [
        " Lung Shan Restaurant\n",
        "90"
       ]
      },
      {
       "output_type": "stream",
       "stream": "stdout",
       "text": [
        " Eric's Restaurant\n",
        "91"
       ]
      },
      {
       "output_type": "stream",
       "stream": "stdout",
       "text": [
        " Ma Jong's Asian Diner\n",
        "92"
       ]
      },
      {
       "output_type": "stream",
       "stream": "stdout",
       "text": [
        " Good Friends Restaurant\n",
        "93"
       ]
      },
      {
       "output_type": "stream",
       "stream": "stdout",
       "text": [
        " Lucky Express\n",
        "94"
       ]
      },
      {
       "output_type": "stream",
       "stream": "stdout",
       "text": [
        " Muntean's Soup\n",
        "95"
       ]
      },
      {
       "output_type": "stream",
       "stream": "stdout",
       "text": [
        " Eastern Empire\n",
        "96"
       ]
      },
      {
       "output_type": "stream",
       "stream": "stdout",
       "text": [
        " Bao Bao Express\n",
        "97"
       ]
      },
      {
       "output_type": "stream",
       "stream": "stdout",
       "text": [
        " Panda House\n",
        "98"
       ]
      },
      {
       "output_type": "stream",
       "stream": "stdout",
       "text": [
        " New Canton\n",
        "99"
       ]
      },
      {
       "output_type": "stream",
       "stream": "stdout",
       "text": [
        " The Mandarin Restaurant\n",
        "100"
       ]
      },
      {
       "output_type": "stream",
       "stream": "stdout",
       "text": [
        " Eggroll Stix\n",
        "101"
       ]
      },
      {
       "output_type": "stream",
       "stream": "stdout",
       "text": [
        " Korea House\n",
        "102"
       ]
      },
      {
       "output_type": "stream",
       "stream": "stdout",
       "text": [
        " Chinois City Cafe\n",
        "103"
       ]
      },
      {
       "output_type": "stream",
       "stream": "stdout",
       "text": [
        " Shanghai Garden\n",
        "104"
       ]
      },
      {
       "output_type": "stream",
       "stream": "stdout",
       "text": [
        " Indo Cafe\n",
        "105"
       ]
      },
      {
       "output_type": "stream",
       "stream": "stdout",
       "text": [
        " Chef Bo\n",
        "106"
       ]
      },
      {
       "output_type": "stream",
       "stream": "stdout",
       "text": [
        " Louie's Restaurant & Catering\n",
        "107"
       ]
      },
      {
       "output_type": "stream",
       "stream": "stdout",
       "text": [
        " Casino Royale\n",
        "108"
       ]
      },
      {
       "output_type": "stream",
       "stream": "stdout",
       "text": [
        " Umeko Buffet\n",
        "109"
       ]
      },
      {
       "output_type": "stream",
       "stream": "stdout",
       "text": [
        " Solar Cookers International\n",
        "110"
       ]
      },
      {
       "output_type": "stream",
       "stream": "stdout",
       "text": [
        " Panda Wok\n",
        "111"
       ]
      },
      {
       "output_type": "stream",
       "stream": "stdout",
       "text": [
        " Panda House\n"
       ]
      }
     ],
     "prompt_number": 71
    },
    {
     "cell_type": "code",
     "collapsed": false,
     "input": [
      "sorted(recommendations, key=lambda x: x['overall'])"
     ],
     "language": "python",
     "metadata": {},
     "outputs": [
      {
       "metadata": {},
       "output_type": "pyout",
       "prompt_number": 89,
       "text": [
        "[{'id': u'bdc445eb9b6a0ad19ae3',\n",
        "  'item': u'Logos',\n",
        "  'lat': 37.543595,\n",
        "  'long': -122.308383,\n",
        "  'overall': -9.4576766488986426,\n",
        "  'rating': -8.400173762206144,\n",
        "  'restaurant': u'The Noodle Shop',\n",
        "  'street': u'164 West 25th Ave.',\n",
        "  'url': u'http://www.thenoodleshop.com'},\n",
        " {'id': u'f9a86143f76a66921587',\n",
        "  'item': u'Gambas Al Ajillo Prawns & Garlic Prawns & garli',\n",
        "  'lat': 37.800632,\n",
        "  'long': -122.407965,\n",
        "  'overall': -8.10988863435648,\n",
        "  'rating': -6.653272284391982,\n",
        "  'restaurant': u'El Raigon',\n",
        "  'street': u'510 Union St.',\n",
        "  'url': u'http://elraigon.com'},\n",
        " {'id': u'8a3d7ab187fcd777744d',\n",
        "  'item': u'NoYolk Ham, Mixed Nuts [Thap Cam Voi Thit (Ham)]',\n",
        "  'lat': 37.793768,\n",
        "  'long': -122.406114,\n",
        "  'overall': -8.0303771015977095,\n",
        "  'rating': -6.760123987643308,\n",
        "  'restaurant': u'Eastern Sea',\n",
        "  'street': u'720 Grant Ave.',\n",
        "  'url': u'http://easternbakery.com'},\n",
        " {'id': u'd5eb4c6cced2f2211022',\n",
        "  'item': u'Prawn Cocktail',\n",
        "  'lat': 37.372221,\n",
        "  'long': -121.913036,\n",
        "  'overall': -6.9333660717358363,\n",
        "  'rating': -6.608522388999255,\n",
        "  'restaurant': u'Bay 101',\n",
        "  'street': u'1801 Bering Drive',\n",
        "  'url': u'http://www.bay101.com/'},\n",
        " {'id': u'16f61964ffc0e0d3d0a2',\n",
        "  'item': u'Winter Melon Soup',\n",
        "  'lat': 37.793451,\n",
        "  'long': -122.404918,\n",
        "  'overall': -6.778008322551897,\n",
        "  'rating': -6.684229511761356,\n",
        "  'restaurant': u'The Far East Caf\\xe9',\n",
        "  'street': u'631 Grant Ave.',\n",
        "  'url': u'http://fareastcafesf.com'},\n",
        " {'id': u'd135e55770710896eae0',\n",
        "  'item': u'Natto W/ Kimchee',\n",
        "  'lat': 37.782196,\n",
        "  'long': -122.478557,\n",
        "  'overall': -6.6576401492995467,\n",
        "  'rating': -6.585163403867817,\n",
        "  'restaurant': u'Izakaya Ju-Ku',\n",
        "  'street': u'1801 Clement St.',\n",
        "  'url': u'http://ju-ku19.com/'},\n",
        " {'id': u'1da3345bb77bd14b87d8',\n",
        "  'item': u'Dragon Fire Asparagus, Red Peppers, Smoked Honey Hoisin',\n",
        "  'lat': 37.792427,\n",
        "  'long': -122.410093,\n",
        "  'overall': -6.6497713267761611,\n",
        "  'rating': -6.588428016576412,\n",
        "  'restaurant': u'Tonga Room & Hurricane Bar - Fairmont San Francisco',\n",
        "  'street': u'950 Mason St.',\n",
        "  'url': u'http://www.tongaroom.com'},\n",
        " {'id': u'7ff162aa66d7165a73d4',\n",
        "  'item': u'Shanghainese Chow Mein Pulled pork trotter, rock shrimp, pickled mustard greens, napa cabbage',\n",
        "  'lat': 37.761274,\n",
        "  'long': -122.419392,\n",
        "  'overall': -6.6342464426980365,\n",
        "  'rating': -6.6433898729789,\n",
        "  'restaurant': u'Lung Shan Restaurant',\n",
        "  'street': u'2234 Mission St.',\n",
        "  'url': u'http://www.missionchinesefood.com/'},\n",
        " {'id': u'c1f0591d88312b19800b',\n",
        "  'item': u'Prawn Cocktail',\n",
        "  'lat': 37.374192,\n",
        "  'long': -121.913782,\n",
        "  'overall': -6.5116919627747656,\n",
        "  'rating': -6.608522388999255,\n",
        "  'restaurant': u'Markos At Bay 101',\n",
        "  'street': u'1801 Bering Drive',\n",
        "  'url': u'http://www.bay101.com/'},\n",
        " {'id': u'4d67d324ace870352173',\n",
        "  'item': u'Corn Chowder & French Onion',\n",
        "  'lat': 38.579448,\n",
        "  'long': -121.489836,\n",
        "  'overall': -6.5020995199620399,\n",
        "  'rating': -6.611458851778614,\n",
        "  'restaurant': u\"Muntean's Soup\",\n",
        "  'street': u'1225 J St.',\n",
        "  'url': u'http://munteansoups.com/'},\n",
        " {'id': u'c252b7f7cbefe0762068',\n",
        "  'item': u'Rare Steak and Beef Meatballs Pho tai, bo vien',\n",
        "  'lat': 37.358384,\n",
        "  'long': -121.890162,\n",
        "  'overall': -6.4330404427990082,\n",
        "  'rating': -6.58914492395346,\n",
        "  'restaurant': u'San Jose Noodle Bar',\n",
        "  'street': u'856 North 13th St.',\n",
        "  'url': u'http://www.sjnoodlebar.com/'},\n",
        " {'id': u'b2e35567c92f9d0a580a',\n",
        "  'item': u'Stir-Fried Squabs Fillet with Yellow Fungus',\n",
        "  'lat': 37.80067,\n",
        "  'long': -122.271212,\n",
        "  'overall': -6.1996567260171132,\n",
        "  'rating': -6.629823677440979,\n",
        "  'restaurant': u'Restaurant Peony',\n",
        "  'street': u'388 9th St. #288',\n",
        "  'url': u'http://restaurantpeony.com/'},\n",
        " {'id': u'fbc08dd530cd583406a3',\n",
        "  'item': u'Sach Chrouk Chha Jee Pork tenderloin saut\\xe9ed w / mint leaves, green beans and chili sauces.',\n",
        "  'lat': 37.798333,\n",
        "  'long': -122.269284,\n",
        "  'overall': -6.1288853570489632,\n",
        "  'rating': -6.717962539645115,\n",
        "  'restaurant': u'Phnom Penh House',\n",
        "  'street': u'251 8th St.',\n",
        "  'url': u'http://phnompenhhouse.com/'},\n",
        " {'id': u'2ee1548137f1a44d1f1a',\n",
        "  'item': u'Spaghetti & Meatballs Served w/ parmesan cheese & garlic bread',\n",
        "  'lat': 38.622755,\n",
        "  'long': -121.418679,\n",
        "  'overall': -6.1185321492990825,\n",
        "  'rating': -6.610923983187009,\n",
        "  'restaurant': u'Casino Royale',\n",
        "  'street': u'2052 Auburn Blvd.',\n",
        "  'url': u'http://www.playcasinoroyale.com/'},\n",
        " {'id': u'd99cb7a1cf74428b296f',\n",
        "  'item': u'Marinated Steamed Bao 12 Pieces\\u200d per box',\n",
        "  'lat': 37.754252,\n",
        "  'long': -122.479147,\n",
        "  'overall': -6.0806207265227714,\n",
        "  'rating': -6.646106634216608,\n",
        "  'restaurant': u'Asian American Food Co',\n",
        "  'street': u'1426 Noriega St.',\n",
        "  'url': u'http://www.kingofchinesedumpling.com/'},\n",
        " {'id': u'05c4111e8fc2af51ca29',\n",
        "  'item': u'Steamed Brown Rice Massa organic California-grown, per person',\n",
        "  'lat': 37.811495,\n",
        "  'long': -122.242552,\n",
        "  'overall': -6.074854034925008,\n",
        "  'rating': -6.666977428514535,\n",
        "  'restaurant': u'Lin Jia',\n",
        "  'street': u'3437 Lakeshore Ave.',\n",
        "  'url': u'http://www.linjiakitchen.com/'},\n",
        " {'id': u'2feb385a70f4bc717424',\n",
        "  'item': u\"Mango Pudding With bird's nest\",\n",
        "  'lat': 37.780352,\n",
        "  'long': -122.475479,\n",
        "  'overall': -6.0655669451927707,\n",
        "  'rating': -6.585910448912905,\n",
        "  'restaurant': u'Creations Dessert House',\n",
        "  'street': u'5217 Geary Blvd.',\n",
        "  'url': u'http://www.creationsdessert.com/'},\n",
        " {'id': u'f202d5a09b5a57d2b7be',\n",
        "  'item': u'Chinese Jello',\n",
        "  'lat': 37.7959835529327,\n",
        "  'long': -122.406996488571,\n",
        "  'overall': -5.9524171644549648,\n",
        "  'rating': -6.904281055971102,\n",
        "  'restaurant': u'Dick Lee BBQ & Dim Sum',\n",
        "  'street': u'716 Jackson St.',\n",
        "  'url': u'http://www.dickleepastry.page.tl'},\n",
        " {'id': u'5565bd49f17d19dff724',\n",
        "  'item': u'Buena Vista Wines',\n",
        "  'lat': 37.7952073638653,\n",
        "  'long': -122.40675982219,\n",
        "  'overall': -5.9422354337184151,\n",
        "  'rating': -6.758725384797721,\n",
        "  'restaurant': u'Imperial Palace',\n",
        "  'street': u'818 Washington St.',\n",
        "  'url': u'http://imperialpalacesf.com'},\n",
        " {'id': u'caf2f98f89e740f5354e',\n",
        "  'item': u'Philly Roll Smoked salmon, cream cheese, avocado',\n",
        "  'lat': 38.566188,\n",
        "  'long': -121.482853,\n",
        "  'overall': -5.9351045877438349,\n",
        "  'rating': -6.629360686910766,\n",
        "  'restaurant': u'Solar Cookers International',\n",
        "  'street': u'1919 21st St. # 101',\n",
        "  'url': u'http://solarcooking.org/'},\n",
        " {'id': u'3b2d39caa189210a58c3',\n",
        "  'item': u'Cucumber Kim Chi',\n",
        "  'lat': 38.573555,\n",
        "  'long': -121.334558,\n",
        "  'overall': -5.8926054664573249,\n",
        "  'rating': -6.595684662353967,\n",
        "  'restaurant': u'Korea House',\n",
        "  'street': u'9729 Folsom Blvd.',\n",
        "  'url': u'http://www.koreahouserestaurant.com/'},\n",
        " {'id': u'936a04494bb175acf768',\n",
        "  'item': u'Blue Moon',\n",
        "  'lat': 38.573499,\n",
        "  'long': -121.414052,\n",
        "  'overall': -5.8912848503918029,\n",
        "  'rating': -6.712489449063174,\n",
        "  'restaurant': u'Eastern Empire',\n",
        "  'street': u'460 Howe Ave.',\n",
        "  'url': u'http://www.easternempirerestaurant.com/'},\n",
        " {'id': u'7534e62e89111159cb24',\n",
        "  'item': u'Malay Veggie Tofu',\n",
        "  'lat': 37.795352,\n",
        "  'long': -122.405534,\n",
        "  'overall': -5.8500452663587579,\n",
        "  'rating': -6.603464274289862,\n",
        "  'restaurant': u'Penang Garden Restaurant',\n",
        "  'street': u'728 Washington St.',\n",
        "  'url': u'http://penanggardensf.com/'},\n",
        " {'id': u'76320a5356d60362dbb9',\n",
        "  'item': u'Chicken Liver & Gizzard Curry',\n",
        "  'lat': 37.7056587931201,\n",
        "  'long': -122.461869820295,\n",
        "  'overall': -5.8460243650869259,\n",
        "  'rating': -6.603681934266136,\n",
        "  'restaurant': u'Little Yangon',\n",
        "  'street': u'6318 Mission St.',\n",
        "  'url': u'http://littleyangon.wordpress.com/menu'},\n",
        " {'id': u'5ac5b99e759aa3dcd96e',\n",
        "  'item': u'Cold Chicken Feet Dipped in Ginger Vinaigrette',\n",
        "  'lat': 37.763781,\n",
        "  'long': -122.473122,\n",
        "  'overall': -5.8415885313349083,\n",
        "  'rating': -6.590919971241776,\n",
        "  'restaurant': u'South Sea Seafood Village',\n",
        "  'street': u'1420 Irving St.',\n",
        "  'url': u'http://southseaseafoodvillage.com/'},\n",
        " {'id': u'd5ac30d6c6ac88b61c06',\n",
        "  'item': u'Malibu Breeze Dark rum orange juice, and pineapple juice',\n",
        "  'lat': 37.28878,\n",
        "  'long': -121.887554526329,\n",
        "  'overall': -5.8251180941192668,\n",
        "  'rating': -6.586920050448814,\n",
        "  'restaurant': u'Pearl River Chinese Restaurant',\n",
        "  'street': u'2281 Lincoln Ave.',\n",
        "  'url': u'http://www.pearlriverchinese.com'},\n",
        " {'id': u'ed82ce4a5df02542b385',\n",
        "  'item': u'Har Gow (Shrimp Dumplings) 4 Pieces',\n",
        "  'lat': 37.7936,\n",
        "  'long': -122.406,\n",
        "  'overall': -5.82275513612153,\n",
        "  'rating': -6.596221526449684,\n",
        "  'restaurant': u'Four Seas Restaurant',\n",
        "  'street': u'731 Grant Ave.',\n",
        "  'url': u'http://www.fourseasr.com'},\n",
        " {'id': u'ee5baacdb1c71f47b88d',\n",
        "  'item': u'Side Field Green Salad With lemon zesty dressing',\n",
        "  'lat': 38.574869,\n",
        "  'long': -121.381355,\n",
        "  'overall': -5.7864777894761241,\n",
        "  'rating': -6.632703725337413,\n",
        "  'restaurant': u'Chinois City Cafe',\n",
        "  'street': u'3535 Fair Oaks Blvd.',\n",
        "  'url': u'http://www.chinoiscitycafe.com/'},\n",
        " {'id': u'f4f4c8def4abe6afe707',\n",
        "  'item': u'Stir-fry Gailon With sugar wine sauce',\n",
        "  'lat': 38.558586,\n",
        "  'long': -121.479393498922,\n",
        "  'overall': -5.7670032126897564,\n",
        "  'rating': -6.600483429469025,\n",
        "  'restaurant': u'New Canton',\n",
        "  'street': u'2523 Broadway',\n",
        "  'url': u'http://newcantonsacramento.com'},\n",
        " {'id': u'c437f4ac9ce12e45fac4',\n",
        "  'item': u'Fire Popped! Spicy Tofu Skin',\n",
        "  'lat': 37.783284,\n",
        "  'long': -122.46651,\n",
        "  'overall': -5.7616046825729859,\n",
        "  'rating': -6.596832349306263,\n",
        "  'restaurant': u'Spices',\n",
        "  'street': u'294 8th Ave.',\n",
        "  'url': u'http://spicesrestaurantonline.com/services__menus'},\n",
        " {'id': u'67d513db4fbbd7aa07c6',\n",
        "  'item': u'Lemon-Pepper Pappardelle With tofu and exotic mushrooms',\n",
        "  'lat': 37.760433,\n",
        "  'long': -122.504067,\n",
        "  'overall': -5.7323421767694409,\n",
        "  'rating': -6.586396164437994,\n",
        "  'restaurant': u'Mango Medley',\n",
        "  'street': u'3911 Judah St.',\n",
        "  'url': u'http://www.mangomedley.com'},\n",
        " {'id': u'2c76de53f429d1a6c965',\n",
        "  'item': u'Chicken W/Cash Nuts',\n",
        "  'lat': 37.782615,\n",
        "  'long': -122.469264,\n",
        "  'overall': -5.731138617406546,\n",
        "  'rating': -6.5944969794236785,\n",
        "  'restaurant': u'Tong Palace',\n",
        "  'street': u'933 Clement St.',\n",
        "  'url': u'http://www.tongpalace.com/'},\n",
        " {'id': u'7e8184a18b9a5ca35996',\n",
        "  'item': u'Ika Squid',\n",
        "  'lat': 37.705934,\n",
        "  'long': -122.461679,\n",
        "  'overall': -5.711733977696297,\n",
        "  'rating': -6.605201292865522,\n",
        "  'restaurant': u'Tao Yin Restaurant',\n",
        "  'street': u'6288 Mission St.',\n",
        "  'url': u'http://www.geeyin.com/'},\n",
        " {'id': u'242524f4d28e18f8c420',\n",
        "  'item': u'Braised Seafood w/Bamboo Fungus Soup Per person',\n",
        "  'lat': 37.782623,\n",
        "  'long': -122.469405,\n",
        "  'overall': -5.6913593885782161,\n",
        "  'rating': -6.589138618133883,\n",
        "  'restaurant': u'House of Banquet',\n",
        "  'street': u'939 Clement St.',\n",
        "  'url': u'http://www.houseofbanquetsf.com/'},\n",
        " {'id': u'44fac6d3c3309c5ce584',\n",
        "  'item': u'Kroket Mashed potato filled w/ beef, carrot, & onion',\n",
        "  'lat': 38.582192,\n",
        "  'long': -121.50615,\n",
        "  'overall': -5.6811353318713902,\n",
        "  'rating': -6.70440226240695,\n",
        "  'restaurant': u'Indo Cafe',\n",
        "  'street': u'1100 Front St.',\n",
        "  'url': u'http://www.indo-cafe.com/'},\n",
        " {'id': u'd05ffe3e6aeb8107022e',\n",
        "  'item': u'Diet Coke',\n",
        "  'lat': 37.743695,\n",
        "  'long': -122.428774,\n",
        "  'overall': -5.6772423040133555,\n",
        "  'rating': -6.626084011139919,\n",
        "  'restaurant': u\"Alice's Restaurant\",\n",
        "  'street': u'1599 Sanchez St.',\n",
        "  'url': u'http://www.alicesrestaurantsf.com/'},\n",
        " {'id': u'bd1aeae29e5fe40531bd',\n",
        "  'item': u'Szechwan Country Flavor Chicken',\n",
        "  'lat': 37.780581,\n",
        "  'long': -122.470337,\n",
        "  'overall': -5.6670244076315113,\n",
        "  'rating': -6.584909844170499,\n",
        "  'restaurant': u'Dong Bei Mama',\n",
        "  'street': u'4737 Geary Blvd.',\n",
        "  'url': u'http://www.pandacountrykitchen.com/'},\n",
        " {'id': u'145198d666fd26508f07',\n",
        "  'item': u'Smoked Beef Shank Cold',\n",
        "  'lat': 37.783169,\n",
        "  'long': -122.464551,\n",
        "  'overall': -5.6601277925181046,\n",
        "  'rating': -6.684559982409449,\n",
        "  'restaurant': u'Spices II',\n",
        "  'street': u'291 6th Ave.',\n",
        "  'url': u'http://spicesrestaurantonline.com/services__menus'},\n",
        " {'id': u'3b05a7b12605ec163df3',\n",
        "  'item': u'Poached Corn Shrimp',\n",
        "  'lat': 37.783025,\n",
        "  'long': -122.462931275368,\n",
        "  'overall': -5.6410270661070543,\n",
        "  'rating': -6.584722671072686,\n",
        "  'restaurant': u'Lee Hou Restaurant',\n",
        "  'street': u'332 Clement St.',\n",
        "  'url': u'http://leehou.net/'},\n",
        " {'id': u'b07ab7263a2d66292ab4',\n",
        "  'item': u\"Lo Sui Sauce Pig's Ear\",\n",
        "  'lat': 37.796826,\n",
        "  'long': -122.407976,\n",
        "  'overall': -5.6391833303876142,\n",
        "  'rating': -6.600945983518085,\n",
        "  'restaurant': u'New Asia Restaurant',\n",
        "  'street': u'772 Pacific Ave.',\n",
        "  'url': u'http://www.sfnewasia.com/'},\n",
        " {'id': u'c13db71c3d85765c3939',\n",
        "  'item': u'Boiled Sesame Mochi',\n",
        "  'lat': 37.796195,\n",
        "  'long': -122.405923,\n",
        "  'overall': -5.6350568712054354,\n",
        "  'rating': -6.630895097792312,\n",
        "  'restaurant': u'Bund Shanghai Restaurant',\n",
        "  'street': u'640 Jackson St.',\n",
        "  'url': u'http://www.bundshanghaisf.com/'},\n",
        " {'id': u'fea8758f92dba7ccaea3',\n",
        "  'item': u\"Chinese Fruit-Lychee, Dragon's Eye or Mandarin Orange or Sorbet\",\n",
        "  'lat': 37.79476,\n",
        "  'long': -122.406323,\n",
        "  'overall': -5.6293058018601903,\n",
        "  'rating': -6.594927300287574,\n",
        "  'restaurant': u'Empress of China',\n",
        "  'street': u'838 Grant Ave.',\n",
        "  'url': u'http://empressofchinasf.com/'},\n",
        " {'id': u'b8922c20132839a903ad',\n",
        "  'item': u'Island White Fish',\n",
        "  'lat': 37.671964,\n",
        "  'long': -122.464482,\n",
        "  'overall': -5.6117660755940371,\n",
        "  'rating': -6.6026263352438335,\n",
        "  'restaurant': u'Ono Hawaiian BBQ',\n",
        "  'street': u'970 Serramonte Blvd.',\n",
        "  'url': u'http://www.onobbq.com/'},\n",
        " {'id': u'b991473784ba313678f4',\n",
        "  'item': u'Hot or Iced French Coffee with Condensed Milk',\n",
        "  'lat': 38.48088,\n",
        "  'long': -121.517914,\n",
        "  'overall': -5.600718348964171,\n",
        "  'rating': -6.617878005221684,\n",
        "  'restaurant': u'Pho Bac Hoa Viet',\n",
        "  'street': u'7600 Greenhaven Dr.',\n",
        "  'url': u'http://hoavietonline.com'},\n",
        " {'id': u'5550f15c91881677dbdc',\n",
        "  'item': u'Philadelphia Roll Smoked salmon, cream cheese, cucumber',\n",
        "  'lat': 37.871778,\n",
        "  'long': -122.267617,\n",
        "  'overall': -5.5804711267719682,\n",
        "  'rating': -6.594210499781438,\n",
        "  'restaurant': u'Ichiban Sushi',\n",
        "  'street': u'2017 Shattuck Ave.',\n",
        "  'url': u'http://www.ichibanberkeley.com/'},\n",
        " {'id': u'af3dacb50cda3a1775a6',\n",
        "  'item': u'Chocolate Lava Cake Warm and decadent. Served with ice cream',\n",
        "  'lat': 37.304870607048,\n",
        "  'long': -121.8982804136,\n",
        "  'overall': -5.5701657829568054,\n",
        "  'rating': -6.771948466794636,\n",
        "  'restaurant': u'Taiwan Restaurant Willow Glen',\n",
        "  'street': u'1306 Lincoln Ave.',\n",
        "  'url': u'http://taiwanrestaurantsj.com'},\n",
        " {'id': u'd09492062ce1ac6202ba',\n",
        "  'item': u'Soy Milk',\n",
        "  'lat': 37.7952286763584,\n",
        "  'long': -122.406132817268,\n",
        "  'overall': -5.5460191692260272,\n",
        "  'rating': -6.599950232511528,\n",
        "  'restaurant': u'Washington Bakery & Restaurant',\n",
        "  'street': u'733 Washington St.',\n",
        "  'url': u'http://www.washingtonbakerysf.com'},\n",
        " {'id': u'caa7c50afa281634fadb',\n",
        "  'item': u'Roast Duck Half',\n",
        "  'lat': 37.780056,\n",
        "  'long': -122.48197,\n",
        "  'overall': -5.5340792137834791,\n",
        "  'rating': -6.591288924632646,\n",
        "  'restaurant': u'Ton Kiang Restaurant',\n",
        "  'street': u'5821 Geary Blvd.',\n",
        "  'url': u'http://www.tonkiang.net/'},\n",
        " {'id': u'c3c6e822137449bc2001',\n",
        "  'item': u'Vegetarian Lettuce Wrap(4)',\n",
        "  'lat': 37.795273,\n",
        "  'long': -122.405986,\n",
        "  'overall': -5.5133197350306693,\n",
        "  'rating': -6.615436535146276,\n",
        "  'restaurant': u'Chinatown Restaurant',\n",
        "  'street': u'744 Washington St.',\n",
        "  'url': u'http://www.chinatownrestaurantsf.com/'},\n",
        " {'id': u'6e5ebbc0d7e67b1f4435',\n",
        "  'item': u'Chinese Satay Sauce W/Cuttlefish & Basil',\n",
        "  'lat': 37.760295,\n",
        "  'long': -122.469174,\n",
        "  'overall': -5.5127666097976844,\n",
        "  'rating': -6.6251735600805715,\n",
        "  'restaurant': u'Enjoy Vegetarian Restaurant',\n",
        "  'street': u'754 Kirkham St.',\n",
        "  'url': u'http://www.enjoyveggie.com/'},\n",
        " {'id': u'2f8789710bff0982d35f',\n",
        "  'item': u'Cube Beef Steak Cubes\\u200c of tenderloin marinated in garlic then quickly pan fried on high flame until medium rare.',\n",
        "  'lat': 37.8028645,\n",
        "  'long': -122.2754109,\n",
        "  'overall': -5.502387972019509,\n",
        "  'rating': -6.666530788367252,\n",
        "  'restaurant': u'Le Cheval',\n",
        "  'street': u'Le Cheval',\n",
        "  'url': u'http://www.lecheval.com/'},\n",
        " {'id': u'6a3a1188c26be9090140',\n",
        "  'item': u'Pork Spareribs Favor',\n",
        "  'lat': 37.782174,\n",
        "  'long': -122.479018,\n",
        "  'overall': -5.4820253227256002,\n",
        "  'rating': -6.593721776082681,\n",
        "  'restaurant': u'Golden Gate Dim Sum Inc',\n",
        "  'street': u'1829 Clement St.',\n",
        "  'url': u'http://www.goldengatedimsumsf.com/'},\n",
        " {'id': u'a45227fc05103f47652d',\n",
        "  'item': u\"Bahama Mama Lots of Bacardi light rum, Meyer's dark rum, house sweet-n-sour, pineapple & orange juice\",\n",
        "  'lat': 38.596346,\n",
        "  'long': -121.363252,\n",
        "  'overall': -5.4729855253085056,\n",
        "  'rating': -6.587791703498251,\n",
        "  'restaurant': u'The Mandarin Restaurant',\n",
        "  'street': u'4321 Arden Way',\n",
        "  'url': u'http://www.themandarinrestaurant.com/'},\n",
        " {'id': u'e8ee996188af2b2918ab',\n",
        "  'item': u'Vegetarian Goose Bean curd roulette',\n",
        "  'lat': 37.796036,\n",
        "  'long': -122.406022,\n",
        "  'overall': -5.4599101833794199,\n",
        "  'rating': -6.617329534721915,\n",
        "  'restaurant': u'Z&Y Restaurant',\n",
        "  'street': u'655 Jackson St.',\n",
        "  'url': u'http://www.zandyrestaurant.com/en/index.html'},\n",
        " {'id': u'cf7cfad114a5283dfc9c',\n",
        "  'item': u'Lychee 4 Servings',\n",
        "  'lat': 37.54428,\n",
        "  'long': -122.305231,\n",
        "  'overall': -5.4348756214945979,\n",
        "  'rating': -6.597992110902327,\n",
        "  'restaurant': u'Oceanic Restaurant',\n",
        "  'street': u'2507 South El Camino Real',\n",
        "  'url': u'http://www.sanmateooceanic.com/'},\n",
        " {'id': u'124fcdb1a44d94806792',\n",
        "  'item': u'Sauteed Snowpeas & Water Chestnut',\n",
        "  'lat': 37.795124,\n",
        "  'long': -122.406088,\n",
        "  'overall': -5.4278996296534983,\n",
        "  'rating': -6.61397194976057,\n",
        "  'restaurant': u'Grant Palace Restaurant',\n",
        "  'street': u'737 Washington St.',\n",
        "  'url': u'http://grantpalacesf.com/'},\n",
        " {'id': u'5383e97d807be919cdd2',\n",
        "  'item': u'Diet Coke',\n",
        "  'lat': 37.868711,\n",
        "  'long': -122.266899,\n",
        "  'overall': -5.4115274907069928,\n",
        "  'rating': -6.626084011139919,\n",
        "  'restaurant': u'Great China Restaurant',\n",
        "  'street': u'2115 Kittredge St.',\n",
        "  'url': u'http://greatchinaberkeley.com/'},\n",
        " {'id': u'3723b87870ce3846f4b0',\n",
        "  'item': u'Soy Milk',\n",
        "  'lat': 37.753045,\n",
        "  'long': -122.406534,\n",
        "  'overall': -5.3877054405163403,\n",
        "  'rating': -6.599950232511528,\n",
        "  'restaurant': u'Wok & Go',\n",
        "  'street': u'2700 24th St.',\n",
        "  'url': u'http://www.wokandgosf.com/'},\n",
        " {'id': u'0d6420ef9825fd2e00ff',\n",
        "  'item': u'Lotus Root Lily, vegetables, peas and ginko',\n",
        "  'lat': 37.795841,\n",
        "  'long': -122.405254,\n",
        "  'overall': -5.3862863365856049,\n",
        "  'rating': -6.607148234400569,\n",
        "  'restaurant': u'Enjoy Vegetarian Restaurant',\n",
        "  'street': u'839 Kearny St.',\n",
        "  'url': u'http://www.enjoyveggie.com/'},\n",
        " {'id': u'e12ad8c612b7557effff',\n",
        "  'item': u\"Burmese Style Curry Burma\\u200b SuperStar's speciality curry made w/ tomatos. Medium spicy\",\n",
        "  'lat': 37.7830303932144,\n",
        "  'long': -122.462544276456,\n",
        "  'overall': -5.3824361315678537,\n",
        "  'rating': -6.633635473462289,\n",
        "  'restaurant': u'Burma Superstar',\n",
        "  'street': u'309 Clement St.',\n",
        "  'url': u'http://www.burmasuperstar.com'},\n",
        " {'id': u'83a3c7fc3e65d02f3743',\n",
        "  'item': u\"Buddha's Delight\",\n",
        "  'lat': 37.746917,\n",
        "  'long': -122.427069,\n",
        "  'overall': -5.3787614511050164,\n",
        "  'rating': -6.804839475427061,\n",
        "  'restaurant': u\"Eric's Restaurant\",\n",
        "  'street': u'1500 Church St.',\n",
        "  'url': u'http://erics.ypguides.net'},\n",
        " {'id': u'09c97cbbc97e94019e90',\n",
        "  'item': u'Combo C',\n",
        "  'lat': 37.798621,\n",
        "  'long': -122.409172,\n",
        "  'overall': -5.3597504602057979,\n",
        "  'rating': -6.946457870147068,\n",
        "  'restaurant': u'Vungtau Restaurant',\n",
        "  'street': u'708 Vallejo St.',\n",
        "  'url': u'http://sf.yibada.com/yp/9168-%E9%A0%AD%E9%A0%93%E8%B6%8A%E5%8D%97%E7%B2%89-Pho-Vung-Tau-Restaurant.html'},\n",
        " {'id': u'4a76c37eb7dcb36c57a9',\n",
        "  'item': u'Sweetened Cream Bun',\n",
        "  'lat': 37.308934,\n",
        "  'long': -121.866357,\n",
        "  'overall': -5.3585515947694962,\n",
        "  'rating': -6.618909410074974,\n",
        "  'restaurant': u'Flourishing Garden Restaurant',\n",
        "  'street': u'1650 Monterey Rd.',\n",
        "  'url': u'http://www.flourishinggardenrestaurant.com/'},\n",
        " {'id': u'55ae26fcae5d9461db29',\n",
        "  'item': u'Smoked Ham',\n",
        "  'lat': 37.793699,\n",
        "  'long': -122.404146,\n",
        "  'overall': -5.3312041437003161,\n",
        "  'rating': -6.62109968246377,\n",
        "  'restaurant': u\"Henry's Hunan Restaurant\",\n",
        "  'street': u'674 Sacramento St.',\n",
        "  'url': u'http://www.henryshunanrestaurant.com/'},\n",
        " {'id': u'786ce768346abcaaaca0',\n",
        "  'item': u'Fresh Garden Delight',\n",
        "  'lat': 37.790204,\n",
        "  'long': -122.42064,\n",
        "  'overall': -5.3248176258053403,\n",
        "  'rating': -6.642288980046878,\n",
        "  'restaurant': u'Bamboo Restaurant',\n",
        "  'street': u'1441 Polk St.',\n",
        "  'url': u'http://www.bamboorestaurantpolksf.com'},\n",
        " {'id': u'5414976f51b2f998ac14',\n",
        "  'item': u'Young Tse River Shrimp',\n",
        "  'lat': 37.79554572,\n",
        "  'long': -122.421707,\n",
        "  'overall': -5.3157965098837803,\n",
        "  'rating': -6.58791741328084,\n",
        "  'restaurant': u'Tai Chi Restaurant',\n",
        "  'street': u'2031 Polk St.',\n",
        "  'url': u'http://www.taichi-sf.com'},\n",
        " {'id': u'9e3e3607ec6af17b2762',\n",
        "  'item': u'Corn Chowder W/Tofu Soup',\n",
        "  'lat': 37.797624,\n",
        "  'long': -122.423702,\n",
        "  'overall': -5.3155232799230996,\n",
        "  'rating': -6.76417854942982,\n",
        "  'restaurant': u\"Ho's Bar & Restaurant\",\n",
        "  'street': u'2360 Van Ness Ave.',\n",
        "  'url': u'http://www.hosbarandrestaurant.com'},\n",
        " {'id': u'1c8b3b3ae7e4a3a41120',\n",
        "  'item': u'Iron Platter Peppered Beef Spicy',\n",
        "  'lat': 37.544887,\n",
        "  'long': -122.284902,\n",
        "  'overall': -5.3138146827259396,\n",
        "  'rating': -6.58474838823753,\n",
        "  'restaurant': u'Hot Wok Cafe',\n",
        "  'street': u'2960 South Norfolk St.',\n",
        "  'url': u'http://www.hotwokcafesanmateo.com/'},\n",
        " {'id': u'1f191157b9f458b94d1d',\n",
        "  'item': u'Crab Puff',\n",
        "  'lat': 37.741535,\n",
        "  'long': -122.422661,\n",
        "  'overall': -5.3106396607996533,\n",
        "  'rating': -6.633205052502843,\n",
        "  'restaurant': u'Shiso Chinese & Japanese Cuisine',\n",
        "  'street': u'3452 Mission St.',\n",
        "  'url': u'http://www.shisorestaurantsf.com/'},\n",
        " {'id': u'2ec85646fb25c5bb1668',\n",
        "  'item': u'Yellowtail Roll',\n",
        "  'lat': 38.613087,\n",
        "  'long': -121.516791,\n",
        "  'overall': -5.3064288171745089,\n",
        "  'rating': -6.659979455164949,\n",
        "  'restaurant': u'Good Friends Restaurant',\n",
        "  'street': u'2600 Gateway Oaks Drive',\n",
        "  'url': u'http://goodfriendssacramento.com/'},\n",
        " {'id': u'a72a73c55bfcb1c91629',\n",
        "  'item': u'Roast Duck Half',\n",
        "  'lat': 37.7773343722629,\n",
        "  'long': -122.463799195606,\n",
        "  'overall': -5.2926218956002424,\n",
        "  'rating': -6.591288924632646,\n",
        "  'restaurant': u\"Melisa's Chinese Cuisine\",\n",
        "  'street': u'450 Balboa St.',\n",
        "  'url': u'http://melisaschinesecuisine.com'},\n",
        " {'id': u'bda841ac0d505ceed6ac',\n",
        "  'item': u'Cambodian Small Rice Noodle',\n",
        "  'lat': 37.79512,\n",
        "  'long': -122.407193,\n",
        "  'overall': -5.2767516810885233,\n",
        "  'rating': -6.643000426707092,\n",
        "  'restaurant': u'San Sun Restaurant',\n",
        "  'street': u'848 Washington St.',\n",
        "  'url': u'http://www.sansunrestaurant.com/'},\n",
        " {'id': u'1a419059733d37bbb3dd',\n",
        "  'item': u'Chen-Do Chicken',\n",
        "  'lat': 37.3070096797784,\n",
        "  'long': -121.9002143819,\n",
        "  'overall': -5.2659656881953509,\n",
        "  'rating': -6.703289783663223,\n",
        "  'restaurant': u'Edna Ray Chinese Restaurant',\n",
        "  'street': u'1181 Lincoln Ave.',\n",
        "  'url': u'http://www.ednaray.com'},\n",
        " {'id': u'95b918ccc423496a13ba',\n",
        "  'item': u'Green Onion Pancakes Eight pieces per order',\n",
        "  'lat': 37.7830560159043,\n",
        "  'long': -122.419237588744,\n",
        "  'overall': -5.2591125968421375,\n",
        "  'rating': -6.6257168262879516,\n",
        "  'restaurant': u\"Ken's Kitchen\",\n",
        "  'street': u'700 Polk St.',\n",
        "  'url': u'http://www.kenskitchen.net'},\n",
        " {'id': u'a35b8f2958f3f54b3343',\n",
        "  'item': u'Chive Dumpling (3)',\n",
        "  'lat': 37.744707,\n",
        "  'long': -122.420292,\n",
        "  'overall': -5.247871686413407,\n",
        "  'rating': -6.618100323044017,\n",
        "  'restaurant': u'Jasmine Tea House',\n",
        "  'street': u'3253 Mission St.',\n",
        "  'url': u'http://www.jasmineteahouse.com/'},\n",
        " {'id': u'3bdf837818f9aae84483',\n",
        "  'item': u'Entrees are served w/ an egg roll, chow mein & fried rice. All box lunches or dinners come ready to eat w/ fortune cookies, soy sauce, & fork.',\n",
        "  'lat': 37.348327,\n",
        "  'long': -121.895967,\n",
        "  'overall': -5.2312358382222754,\n",
        "  'rating': -6.661542602177297,\n",
        "  'restaurant': u'Wings Chinese Restaurant',\n",
        "  'street': u'131 Jackson St.',\n",
        "  'url': u'http://www.wingsofsanjose.com'},\n",
        " {'id': u'8b66120521ccbe829cb0',\n",
        "  'item': u'Egg Custer (3) (Sweet)',\n",
        "  'lat': 37.794884,\n",
        "  'long': -122.406896,\n",
        "  'overall': -5.2296906843481574,\n",
        "  'rating': -6.736328939277453,\n",
        "  'restaurant': u'The Pot Sticker Restaurant',\n",
        "  'street': u'150 Waverly Pl.',\n",
        "  'url': u'http://www.thepotsticker.com/'},\n",
        " {'id': u'ff3fecb08c778415b2be',\n",
        "  'item': u\"Chef's Goutmet Chicken\",\n",
        "  'lat': 37.775805,\n",
        "  'long': -122.497775,\n",
        "  'overall': -5.1887170597249783,\n",
        "  'rating': -6.9682432490996495,\n",
        "  'restaurant': u'Kams',\n",
        "  'street': u'3624 Balboa St.',\n",
        "  'url': u'http://kamsrestaurant.com/'},\n",
        " {'id': u'7a1459731455d08fbd26',\n",
        "  'item': u'Family Style B',\n",
        "  'lat': 37.798117,\n",
        "  'long': -122.40468,\n",
        "  'overall': -5.1790459878415991,\n",
        "  'rating': -6.590700577770373,\n",
        "  'restaurant': u'Green Garden Restaurant',\n",
        "  'street': u'434 Broadway',\n",
        "  'url': u'http://www.greengardenrestaurantsf.com/'},\n",
        " {'id': u'c3dcbc27f208377b6ca3',\n",
        "  'item': u'Mandarin Veluet Chicken',\n",
        "  'lat': 37.7899099158298,\n",
        "  'long': -122.411820797083,\n",
        "  'overall': -5.1740341406362749,\n",
        "  'rating': -6.833593144543606,\n",
        "  'restaurant': u'City Chopsticks',\n",
        "  'street': u'883 Bush St.',\n",
        "  'url': u'http://www.citychopstickssf.com'},\n",
        " {'id': u'cf02f30efd07a475e24f',\n",
        "  'item': u'Gift Wrapped Chicken 8',\n",
        "  'lat': 38.546913,\n",
        "  'long': -121.453512,\n",
        "  'overall': -5.1706084230431006,\n",
        "  'rating': -6.641320858430382,\n",
        "  'restaurant': u\"Louie's Restaurant & Catering\",\n",
        "  'street': u'4605 Broadway',\n",
        "  'url': u'http://www.louiescatering.com/'},\n",
        " {'id': u'b52a1b8078a152f7ff73',\n",
        "  'item': u'Pan Toughed Chicken',\n",
        "  'lat': 37.812007,\n",
        "  'long': -122.247822,\n",
        "  'overall': -5.1646673327223498,\n",
        "  'rating': -6.654636586853869,\n",
        "  'restaurant': u'Yang Chow Restaurant',\n",
        "  'street': u'3211 Grand Ave.',\n",
        "  'url': u'http://www.yangchowrestaurant.com/'},\n",
        " {'id': u'dd59b0fbeee9ba56255e',\n",
        "  'item': u'Coke / 7 Up Can',\n",
        "  'lat': 37.308987,\n",
        "  'long': -121.899712,\n",
        "  'overall': -5.159845101190669,\n",
        "  'rating': -6.603001501256486,\n",
        "  'restaurant': u'sweet mango restaurant Burmese,Chinese and Thai',\n",
        "  'street': u'1040 Willow St.',\n",
        "  'url': u'http://www.sweetmangosweet.com/'},\n",
        " {'id': u'2c186634ec244e2d9e5f',\n",
        "  'item': u'Vegetarian Lettuce Wrap',\n",
        "  'lat': 37.785573,\n",
        "  'long': -122.414855,\n",
        "  'overall': -5.158911392042163,\n",
        "  'rating': -6.615436535146276,\n",
        "  'restaurant': u'Dim Sum Bar',\n",
        "  'street': u'620 Ofarrell St.',\n",
        "  'url': u'http://www.dimsumbarsf.com/'},\n",
        " {'id': u'ac20d7e0c30eba3773d8',\n",
        "  'item': u'Mogolian Chicken',\n",
        "  'lat': 38.637547,\n",
        "  'long': -121.42905,\n",
        "  'overall': -5.1410667135022123,\n",
        "  'rating': -6.593101584768307,\n",
        "  'restaurant': u'Lucky Express',\n",
        "  'street': u'3828 Willow St.',\n",
        "  'url': u'http://www.luckyexpress916.com/'},\n",
        " {'id': u'44f1a23c22301f79f465',\n",
        "  'item': u'Burmese Style Curry Catfish Steak',\n",
        "  'lat': 37.7851089578919,\n",
        "  'long': -122.464301967993,\n",
        "  'overall': -5.1290115271692871,\n",
        "  'rating': -6.6774149120552035,\n",
        "  'restaurant': u'Mandalay',\n",
        "  'street': u'4348 California St.',\n",
        "  'url': u'http://mandalaysf.com'},\n",
        " {'id': u'a903f8a8142e5fa852a6',\n",
        "  'item': u'Barbecued Combination Platter',\n",
        "  'lat': 37.794146,\n",
        "  'long': -122.404873,\n",
        "  'overall': -5.118837320125059,\n",
        "  'rating': -6.6769798268913325,\n",
        "  'restaurant': u'R & G Lounge',\n",
        "  'street': u'631 Kearny St.',\n",
        "  'url': u'http://www.rnglounge.com/'},\n",
        " {'id': u'03704c603f6a5f522bf6',\n",
        "  'item': u'Dragon and Phoenix',\n",
        "  'lat': 37.799686,\n",
        "  'long': -122.271236,\n",
        "  'overall': -5.1104363146865879,\n",
        "  'rating': -6.856799788062347,\n",
        "  'restaurant': u'Golden Peacock Restaurant',\n",
        "  'street': u'825 Webster St.',\n",
        "  'url': u'http://goldenpeacockrestaurant.com/'},\n",
        " {'id': u'409d02515130f787bc0f',\n",
        "  'item': u'Braised Flounder Fillet',\n",
        "  'lat': 37.763801,\n",
        "  'long': -122.469015,\n",
        "  'overall': -5.1102684569628307,\n",
        "  'rating': -6.608358539430239,\n",
        "  'restaurant': u'San Tung Chinese Restaurant',\n",
        "  'street': u'1031 Irving St.',\n",
        "  'url': u'http://www.santungrestaurant.com/'},\n",
        " {'id': u'c394062eb57d0500e553',\n",
        "  'item': u'Egg Rolls Fresh cabbage, celery, delicious tree ears, carrots and clear rice noodles prepared in a quick wok for optimum flavor. Served with our special sauce. Not spicy unless requested.',\n",
        "  'lat': 37.797236,\n",
        "  'long': -122.406126,\n",
        "  'overall': -5.108348628793288,\n",
        "  'rating': -6.765496127269434,\n",
        "  'restaurant': u\"Brandy Ho's Hunan Food\",\n",
        "  'street': u'217 Columbus Ave.',\n",
        "  'url': u'http://www.brandyhos.com'},\n",
        " {'id': u'5edba998d60b8b841b8a',\n",
        "  'item': u'Mandarin Chop Suey',\n",
        "  'lat': 37.348417,\n",
        "  'long': -121.89585718,\n",
        "  'overall': -5.1066411528914371,\n",
        "  'rating': -7.00777435676978,\n",
        "  'restaurant': u\"Wing's Chinese Restaurant\",\n",
        "  'street': u'131 Jackson St.',\n",
        "  'url': u'http://www.wingsofsanjose.com'},\n",
        " {'id': u'd9d8b2e048900986e07a',\n",
        "  'item': u'Lion Head Clay Pot',\n",
        "  'lat': 37.53006,\n",
        "  'long': -122.290509,\n",
        "  'overall': -5.0724007069001971,\n",
        "  'rating': -6.751799602979446,\n",
        "  'restaurant': u'Uncle Chen Restaurant',\n",
        "  'street': u'40 42nd Ave.',\n",
        "  'url': u'http://unclechenrestaurant.com/'},\n",
        " {'id': u'f301dd4ee228d609b497',\n",
        "  'item': u'Home Style Pot Stickers 6 must try',\n",
        "  'lat': 37.7077,\n",
        "  'long': -122.417318,\n",
        "  'overall': -5.0550357673275519,\n",
        "  'rating': -6.797963054565873,\n",
        "  'restaurant': u\"Ng's Kitchen\",\n",
        "  'street': u'2511 Geneva Ave.',\n",
        "  'url': u'http://ngskitchen.com/'},\n",
        " {'id': u'2ade2d3f702d7929c674',\n",
        "  'item': u'Diet coke',\n",
        "  'lat': 38.524842,\n",
        "  'long': -121.41326,\n",
        "  'overall': -5.0538091190777399,\n",
        "  'rating': -6.626084011139919,\n",
        "  'restaurant': u'Bao Bao Express',\n",
        "  'street': u'7724 Fruitridge Rd.',\n",
        "  'url': u'http://boaboachinese.com/'},\n",
        " {'id': u'12d03e6c422f5cece5e2',\n",
        "  'item': u'House Chop Suey',\n",
        "  'lat': 37.803352,\n",
        "  'long': -122.281776,\n",
        "  'overall': -5.0516096272196718,\n",
        "  'rating': -6.654574249533383,\n",
        "  'restaurant': u'Hong Kong Fast Food',\n",
        "  'street': u'900 Market St.',\n",
        "  'url': u'http://hongkongfastfood.com/'},\n",
        " {'id': u'ab1168d3b964bbf251aa',\n",
        "  'item': u'Dry-Fried Beef Ho Fun',\n",
        "  'lat': 37.794612,\n",
        "  'long': -122.4180315,\n",
        "  'overall': -5.0510026829318964,\n",
        "  'rating': -6.601869545867585,\n",
        "  'restaurant': u'U-Lee',\n",
        "  'street': u'1468 Hyde St.',\n",
        "  'url': u'http://u-leesf.com'},\n",
        " {'id': u'89594d1aee82d225637a',\n",
        "  'item': u'Egg fu-yung',\n",
        "  'lat': 38.5747821823526,\n",
        "  'long': -121.464718599196,\n",
        "  'overall': -5.0310037347309731,\n",
        "  'rating': -6.710746480042926,\n",
        "  'restaurant': u'Shanghai Garden',\n",
        "  'street': u'800 Alhambra Blvd.',\n",
        "  'url': u'http://www.shanghaigardenca.com'},\n",
        " {'id': u'694c4e57cb6126f449f9',\n",
        "  'item': u'Happy Family',\n",
        "  'lat': 37.739061,\n",
        "  'long': -122.416285,\n",
        "  'overall': -5.0176346696382366,\n",
        "  'rating': -7.510762912166913,\n",
        "  'restaurant': u'Hunan Chef',\n",
        "  'street': u'519 Cortland Ave.',\n",
        "  'url': u'http://www.hunanchefsf.com'},\n",
        " {'id': u'0e98b77c93c0c5a5d08b',\n",
        "  'item': u'Teriyaki Bowl Chopped lettuce, sweet soy glaze',\n",
        "  'lat': 38.576542,\n",
        "  'long': -121.487908,\n",
        "  'overall': -5.0125867659220287,\n",
        "  'rating': -6.752634941413385,\n",
        "  'restaurant': u\"Ma Jong's Asian Diner\",\n",
        "  'street': u'1431 L St.',\n",
        "  'url': u'http://www.theparkdowntown.com/page.php?url=majongs'},\n",
        " {'id': u'540661b86d887156e7df',\n",
        "  'item': u'Black Peppered Steak Cubes',\n",
        "  'lat': 38.4552249568936,\n",
        "  'long': -121.402817666531,\n",
        "  'overall': -5.0087703631085354,\n",
        "  'rating': -6.75094131459192,\n",
        "  'restaurant': u'Eggroll Stix',\n",
        "  'street': u'8250 Calvine Rd., #a',\n",
        "  'url': u'http://www.eggrollstix.com'},\n",
        " {'id': u'40b4a7f02e9f10a20d6c',\n",
        "  'item': u'French Fries',\n",
        "  'lat': 37.751532,\n",
        "  'long': -122.41823,\n",
        "  'overall': -5.0070500634953818,\n",
        "  'rating': -7.3097628938553445,\n",
        "  'restaurant': u'Dak Win Restaurant',\n",
        "  'street': u'2845 Mission St.',\n",
        "  'url': u'http://www.dwchinesefood.com/'},\n",
        " {'id': u'b0e8b6e85ec1e889472d',\n",
        "  'item': u'Spare rib (8)',\n",
        "  'lat': 38.547484,\n",
        "  'long': -121.396069,\n",
        "  'overall': -4.9940916508267739,\n",
        "  'rating': -7.2717964723723965,\n",
        "  'restaurant': u'Umeko Buffet',\n",
        "  'street': u'8353 Folsom Blvd.',\n",
        "  'url': u'http://www.umekobuffet.com/'},\n",
        " {'id': u'779b15e8ec9d47f0210c',\n",
        "  'item': u'Soda Small Cans Your choice of flavor.',\n",
        "  'lat': 37.7816372065855,\n",
        "  'long': -122.492709159851,\n",
        "  'overall': -4.9882607786129682,\n",
        "  'rating': -6.717337216802597,\n",
        "  'restaurant': u'Tsing Tao Resturant',\n",
        "  'street': u'3107 Clement St.',\n",
        "  'url': u'http://sftsingtao.com'},\n",
        " {'id': u'51d81cfed3cf1d7ca32c',\n",
        "  'item': u'Bf-I5. Orange Beef',\n",
        "  'lat': 38.570808,\n",
        "  'long': -121.457403,\n",
        "  'overall': -4.9478363591931105,\n",
        "  'rating': -6.691542565485929,\n",
        "  'restaurant': u'China Cafe',\n",
        "  'street': u'3653 J St.',\n",
        "  'url': u'http://www.chinacafesacramento.com/'},\n",
        " {'id': u'46f25e61621ff4a37090',\n",
        "  'item': u'Roast Duck (Half)',\n",
        "  'lat': 37.743805,\n",
        "  'long': -122.420888,\n",
        "  'overall': -4.9458428028258483,\n",
        "  'rating': -6.591288924632646,\n",
        "  'restaurant': u'Nulite Kitchen',\n",
        "  'street': u'3319 Mission St.',\n",
        "  'url': u'http://www.nulitekitchen.com'},\n",
        " {'id': u'cf196349973ba0e01d11',\n",
        "  'item': u'NS5 Da Lao Mein',\n",
        "  'lat': 38.573659,\n",
        "  'long': -121.410281,\n",
        "  'overall': -4.943078512463897,\n",
        "  'rating': -6.591008179359342,\n",
        "  'restaurant': u'Chef Bo',\n",
        "  'street': u'2310 Fair Oaks Blvd.',\n",
        "  'url': u'http://www.chefbosacramento.com/'},\n",
        " {'id': u'77c99bb592973c5fad67',\n",
        "  'item': u'Two Flavored Prawns',\n",
        "  'lat': 37.796245,\n",
        "  'long': -122.405635,\n",
        "  'overall': -4.9390386084671292,\n",
        "  'rating': -6.646094838589781,\n",
        "  'restaurant': u\"Hunan Home's Restaurant\",\n",
        "  'street': u'622 Jackson St.',\n",
        "  'url': u'http://hunanhome.ypguides.net/'},\n",
        " {'id': u'95d39520481af49cf261',\n",
        "  'item': u'Roast Duck Half',\n",
        "  'lat': 38.559975,\n",
        "  'long': -121.486595,\n",
        "  'overall': -4.923927877919497,\n",
        "  'rating': -6.591288924632646,\n",
        "  'restaurant': u'Panda House',\n",
        "  'street': u'2022 Broadway',\n",
        "  'url': u'http://www.pandahousesac.com/'},\n",
        " {'id': u'6371719ca793050e7e43',\n",
        "  'item': u'Roast Duck (Half)',\n",
        "  'lat': 38.559975,\n",
        "  'long': -121.486595,\n",
        "  'overall': -4.9077815760147967,\n",
        "  'rating': -6.591288924632646,\n",
        "  'restaurant': u'Panda House',\n",
        "  'street': u'2022 Broadway',\n",
        "  'url': u'http://www.pandahousesac.com'},\n",
        " {'id': u'4da1236319b24c183ab6',\n",
        "  'item': u'Egg Flower Sm/ lg',\n",
        "  'lat': 38.4954137236135,\n",
        "  'long': -121.452009323786,\n",
        "  'overall': -4.8783531592259815,\n",
        "  'rating': -6.730559171830722,\n",
        "  'restaurant': u'Panda Wok',\n",
        "  'street': u'4540 Florin Rd., #a',\n",
        "  'url': u'http://chinesewokfresh.com'},\n",
        " {'id': u'5d683acaa953a8da04a5',\n",
        "  'item': u'Wine Choice of chardonnay, merlot or white zinfandel',\n",
        "  'lat': 37.35665,\n",
        "  'long': -121.90129535,\n",
        "  'overall': -4.6805785902273014,\n",
        "  'rating': -6.649840086909849,\n",
        "  'restaurant': u'Hunan Taste',\n",
        "  'street': u'998 N. 4th St.',\n",
        "  'url': u'http://hunantaste.net'}]"
       ]
      }
     ],
     "prompt_number": 89
    },
    {
     "cell_type": "code",
     "collapsed": false,
     "input": [
      "hist([item['overall'] for item in recommendations],bins=10)"
     ],
     "language": "python",
     "metadata": {},
     "outputs": [
      {
       "metadata": {},
       "output_type": "pyout",
       "prompt_number": 88,
       "text": [
        "(array([  1.,   0.,   2.,   0.,   0.,   5.,   6.,  26.,  44.,  27.]),\n",
        " array([-9.45767665, -8.97996684, -8.50225704, -8.02454723, -7.54683743,\n",
        "       -7.06912762, -6.59141781, -6.11370801, -5.6359982 , -5.1582884 ,\n",
        "       -4.68057859]),\n",
        " <a list of 10 Patch objects>)"
       ]
      },
      {
       "metadata": {},
       "output_type": "display_data",
       "png": "[encoded data removed]",
       "text": [
        "<matplotlib.figure.Figure at 0x75fad50>"
       ]
      }
     ],
     "prompt_number": 88
    },
    {
     "cell_type": "code",
     "collapsed": false,
     "input": [
      "json.dump(recommendations,open('recommendations.json','w'))"
     ],
     "language": "python",
     "metadata": {},
     "outputs": [],
     "prompt_number": 92
    },
    {
     "cell_type": "code",
     "collapsed": false,
     "input": [
      "json.dump?"
     ],
     "language": "python",
     "metadata": {},
     "outputs": [],
     "prompt_number": 91
    },
    {
     "cell_type": "code",
     "collapsed": false,
     "input": [
      "[item['rating'] for item in recommendations if item['id']=='caf2f98f89e740f5354e']"
     ],
     "language": "python",
     "metadata": {},
     "outputs": [
      {
       "metadata": {},
       "output_type": "pyout",
       "prompt_number": 103,
       "text": [
        "[-6.629360686910766]"
       ]
      }
     ],
     "prompt_number": 103
    },
    {
     "cell_type": "code",
     "collapsed": false,
     "input": [],
     "language": "python",
     "metadata": {},
     "outputs": []
    }
   ],
   "metadata": {}
  }
 ]
}