{
 "metadata": {
  "name": ""
 },
 "nbformat": 3,
 "nbformat_minor": 0,
 "worksheets": [
  {
   "cells": [
    {
     "cell_type": "code",
     "collapsed": false,
     "input": [
      "%pylab inline\n",
      "from locu.api import VenueApiClient, MenuItemApiClient\n",
      "import json"
     ],
     "language": "python",
     "metadata": {},
     "outputs": [
      {
       "output_type": "stream",
       "stream": "stdout",
       "text": [
        "Populating the interactive namespace from numpy and matplotlib\n"
       ]
      }
     ],
     "prompt_number": 1
    },
    {
     "cell_type": "code",
     "collapsed": false,
     "input": [
      "venue_client = VenueApiClient('10848363d2e5411a0e845e017ce6ca51bf0b5ce2')"
     ],
     "language": "python",
     "metadata": {},
     "outputs": [],
     "prompt_number": 2
    },
    {
     "cell_type": "code",
     "collapsed": false,
     "input": [
      "#zipcodes = ['94108','94133','94121','94118','94122','94109']\n",
      "#zipcodes = ['94607','94014','94403']\n",
      "#zipcodes = ['95125','95112','94704']\n",
      "#zipcodes = ['94110','94131','94709']"
     ],
     "language": "python",
     "metadata": {},
     "outputs": [],
     "prompt_number": 84
    },
    {
     "cell_type": "code",
     "collapsed": false,
     "input": [
      "venue_list = []\n",
      "for zip in zipcodes:\n",
      "    venues = venue_client.search(cuisine=['chinese'], postal_code=zip,category=['restaurant'],\n",
      "                             has_menu=True)\n",
      "    venue_list.append(venues)"
     ],
     "language": "python",
     "metadata": {},
     "outputs": [],
     "prompt_number": 85
    },
    {
     "cell_type": "code",
     "collapsed": false,
     "input": [
      "venue_list"
     ],
     "language": "python",
     "metadata": {},
     "outputs": [
      {
       "metadata": {},
       "output_type": "pyout",
       "prompt_number": 86,
       "text": [
        "[{u'meta': {u'cache-expiry': 3600, u'limit': 25},\n",
        "  u'objects': [{u'categories': [u'other', u'restaurant'],\n",
        "    u'country': u'United States',\n",
        "    u'cuisines': [u'steakhouse / grill', u'chinese'],\n",
        "    u'has_menu': True,\n",
        "    u'id': u'40b4a7f02e9f10a20d6c',\n",
        "    u'lat': 37.751532,\n",
        "    u'locality': u'San Francisco',\n",
        "    u'long': -122.41823,\n",
        "    u'name': u'Dak Win Restaurant',\n",
        "    u'phone': u'(415) 285-4455',\n",
        "    u'postal_code': u'94110',\n",
        "    u'region': u'CA',\n",
        "    u'resource_uri': u'/v1_0/venue/40b4a7f02e9f10a20d6c/',\n",
        "    u'street_address': u'2845 Mission St.',\n",
        "    u'website_url': u'http://www.dwchinesefood.com/'},\n",
        "   {u'categories': [u'other', u'restaurant'],\n",
        "    u'country': u'United States',\n",
        "    u'cuisines': [u'coffee / tea', u'chinese'],\n",
        "    u'has_menu': True,\n",
        "    u'id': u'a35b8f2958f3f54b3343',\n",
        "    u'lat': 37.744707,\n",
        "    u'locality': u'San Francisco',\n",
        "    u'long': -122.420292,\n",
        "    u'name': u'Jasmine Tea House',\n",
        "    u'phone': u'(415) 826-6288',\n",
        "    u'postal_code': u'94110',\n",
        "    u'region': u'CA',\n",
        "    u'resource_uri': u'/v1_0/venue/a35b8f2958f3f54b3343/',\n",
        "    u'street_address': u'3253 Mission St.',\n",
        "    u'website_url': u'http://www.jasmineteahouse.com/'},\n",
        "   {u'categories': [u'other', u'restaurant'],\n",
        "    u'country': u'United States',\n",
        "    u'cuisines': [u'japanese', u'chinese'],\n",
        "    u'has_menu': True,\n",
        "    u'id': u'1f191157b9f458b94d1d',\n",
        "    u'lat': 37.741535,\n",
        "    u'locality': u'San Francisco',\n",
        "    u'long': -122.422661,\n",
        "    u'name': u'Shiso Chinese & Japanese Cuisine',\n",
        "    u'phone': u'(415) 642-1987',\n",
        "    u'postal_code': u'94110',\n",
        "    u'region': u'CA',\n",
        "    u'resource_uri': u'/v1_0/venue/1f191157b9f458b94d1d/',\n",
        "    u'street_address': u'3452 Mission St.',\n",
        "    u'website_url': u'http://www.shisorestaurantsf.com/'},\n",
        "   {u'categories': [u'other', u'restaurant'],\n",
        "    u'country': u'United States',\n",
        "    u'cuisines': [u'steakhouse / grill', u'chinese'],\n",
        "    u'has_menu': True,\n",
        "    u'id': u'694c4e57cb6126f449f9',\n",
        "    u'lat': 37.739061,\n",
        "    u'locality': u'San Francisco',\n",
        "    u'long': -122.416285,\n",
        "    u'name': u'Hunan Chef',\n",
        "    u'phone': u'(415) 648-3636',\n",
        "    u'postal_code': u'94110',\n",
        "    u'region': u'CA',\n",
        "    u'resource_uri': u'/v1_0/venue/694c4e57cb6126f449f9/',\n",
        "    u'street_address': u'519 Cortland Ave.',\n",
        "    u'website_url': u'http://www.hunanchefsf.com'},\n",
        "   {u'categories': [u'other', u'restaurant'],\n",
        "    u'country': u'United States',\n",
        "    u'cuisines': [u'chinese'],\n",
        "    u'has_menu': True,\n",
        "    u'id': u'3723b87870ce3846f4b0',\n",
        "    u'lat': 37.753045,\n",
        "    u'locality': u'San Francisco',\n",
        "    u'long': -122.406534,\n",
        "    u'name': u'Wok & Go',\n",
        "    u'phone': u'(415) 642-4313',\n",
        "    u'postal_code': u'94110',\n",
        "    u'region': u'CA',\n",
        "    u'resource_uri': u'/v1_0/venue/3723b87870ce3846f4b0/',\n",
        "    u'street_address': u'2700 24th St.',\n",
        "    u'website_url': u'http://www.wokandgosf.com/'},\n",
        "   {u'categories': [u'other', u'restaurant'],\n",
        "    u'country': u'United States',\n",
        "    u'cuisines': [u'seafood', u'vegetarian', u'chinese'],\n",
        "    u'has_menu': True,\n",
        "    u'id': u'46f25e61621ff4a37090',\n",
        "    u'lat': 37.743805,\n",
        "    u'locality': u'San Francisco',\n",
        "    u'long': -122.420888,\n",
        "    u'name': u'Nulite Kitchen',\n",
        "    u'phone': u'(415) 648-7724',\n",
        "    u'postal_code': u'94110',\n",
        "    u'region': u'CA',\n",
        "    u'resource_uri': u'/v1_0/venue/46f25e61621ff4a37090/',\n",
        "    u'street_address': u'3319 Mission St.',\n",
        "    u'website_url': u'http://www.nulitekitchen.com'},\n",
        "   {u'categories': [u'restaurant'],\n",
        "    u'country': u'United States',\n",
        "    u'cuisines': [u'american', u'chinese'],\n",
        "    u'has_menu': True,\n",
        "    u'id': u'7ff162aa66d7165a73d4',\n",
        "    u'lat': 37.761274,\n",
        "    u'locality': u'San Francisco',\n",
        "    u'long': -122.419392,\n",
        "    u'name': u'Lung Shan Restaurant',\n",
        "    u'phone': u'(415) 863-2800',\n",
        "    u'postal_code': u'94110',\n",
        "    u'region': u'CA',\n",
        "    u'resource_uri': u'/v1_0/venue/7ff162aa66d7165a73d4/',\n",
        "    u'street_address': u'2234 Mission St.',\n",
        "    u'website_url': u'http://www.missionchinesefood.com/'}]},\n",
        " {u'meta': {u'cache-expiry': 3600, u'limit': 25},\n",
        "  u'objects': [{u'categories': [u'other', u'restaurant'],\n",
        "    u'country': u'United States',\n",
        "    u'cuisines': [u'fusion', u'asian', u'chinese'],\n",
        "    u'has_menu': True,\n",
        "    u'id': u'd05ffe3e6aeb8107022e',\n",
        "    u'lat': 37.743695,\n",
        "    u'locality': u'San Francisco',\n",
        "    u'long': -122.428774,\n",
        "    u'name': u\"Alice's Restaurant\",\n",
        "    u'phone': u'(415) 282-8999',\n",
        "    u'postal_code': u'94131',\n",
        "    u'region': u'CA',\n",
        "    u'resource_uri': u'/v1_0/venue/d05ffe3e6aeb8107022e/',\n",
        "    u'street_address': u'1599 Sanchez St.',\n",
        "    u'website_url': u'http://www.alicesrestaurantsf.com/'},\n",
        "   {u'categories': [u'other', u'restaurant'],\n",
        "    u'country': u'United States',\n",
        "    u'cuisines': [u'vegetarian', u'american', u'seafood', u'chinese'],\n",
        "    u'has_menu': True,\n",
        "    u'id': u'83a3c7fc3e65d02f3743',\n",
        "    u'lat': 37.746917,\n",
        "    u'locality': u'San Francisco',\n",
        "    u'long': -122.427069,\n",
        "    u'name': u\"Eric's Restaurant\",\n",
        "    u'phone': u'(415) 282-0919',\n",
        "    u'postal_code': u'94131',\n",
        "    u'region': u'CA',\n",
        "    u'resource_uri': u'/v1_0/venue/83a3c7fc3e65d02f3743/',\n",
        "    u'street_address': u'1500 Church St.',\n",
        "    u'website_url': u'http://erics.ypguides.net'}]},\n",
        " {u'meta': {u'cache-expiry': 3600, u'limit': 25}, u'objects': []}]"
       ]
      }
     ],
     "prompt_number": 86
    },
    {
     "cell_type": "code",
     "collapsed": false,
     "input": [
      "#restaurant_list = []\n",
      "for item in venue_list:\n",
      "    print len(item['objects'])\n",
      "    restaurant_list += item['objects']"
     ],
     "language": "python",
     "metadata": {},
     "outputs": [
      {
       "output_type": "stream",
       "stream": "stdout",
       "text": [
        "7\n",
        "2\n",
        "0\n"
       ]
      }
     ],
     "prompt_number": 87
    },
    {
     "cell_type": "code",
     "collapsed": false,
     "input": [
      "len(restaurant_list)"
     ],
     "language": "python",
     "metadata": {},
     "outputs": [
      {
       "metadata": {},
       "output_type": "pyout",
       "prompt_number": 97,
       "text": [
        "111"
       ]
      }
     ],
     "prompt_number": 97
    },
    {
     "cell_type": "code",
     "collapsed": false,
     "input": [
      "Sac = venue_client.search(cuisine=['chinese'], locality='Sacramento',category=['restaurant'],\n",
      "                             has_menu=True)"
     ],
     "language": "python",
     "metadata": {},
     "outputs": [],
     "prompt_number": 89
    },
    {
     "cell_type": "code",
     "collapsed": false,
     "input": [
      "restaurant_list += Sac['objects']"
     ],
     "language": "python",
     "metadata": {},
     "outputs": [],
     "prompt_number": 96
    },
    {
     "cell_type": "code",
     "collapsed": false,
     "input": [
      "json.dump(restaurant_list, open('restaurants.json','w'))"
     ],
     "language": "python",
     "metadata": {},
     "outputs": [],
     "prompt_number": 98
    },
    {
     "cell_type": "code",
     "collapsed": false,
     "input": [
      "len(restaurant_list)"
     ],
     "language": "python",
     "metadata": {},
     "outputs": [
      {
       "metadata": {},
       "output_type": "pyout",
       "prompt_number": 99,
       "text": [
        "111"
       ]
      }
     ],
     "prompt_number": 99
    },
    {
     "cell_type": "code",
     "collapsed": false,
     "input": [
      "ids = [item['id'] for item in restaurant_list]"
     ],
     "language": "python",
     "metadata": {},
     "outputs": [],
     "prompt_number": 128
    },
    {
     "cell_type": "code",
     "collapsed": false,
     "input": [
      "venue_client.get_menus??"
     ],
     "language": "python",
     "metadata": {},
     "outputs": [],
     "prompt_number": 130
    },
    {
     "cell_type": "code",
     "collapsed": false,
     "input": [
      "b['objects'][0]['menus'] == a"
     ],
     "language": "python",
     "metadata": {},
     "outputs": [
      {
       "metadata": {},
       "output_type": "pyout",
       "prompt_number": 136,
       "text": [
        "True"
       ]
      }
     ],
     "prompt_number": 136
    },
    {
     "cell_type": "code",
     "collapsed": false,
     "input": [
      "yield??"
     ],
     "language": "python",
     "metadata": {},
     "outputs": [
      {
       "output_type": "stream",
       "stream": "stdout",
       "text": [
        "Object `yield` not found.\n"
       ]
      }
     ],
     "prompt_number": 151
    },
    {
     "cell_type": "code",
     "collapsed": false,
     "input": [
      "id_lists = []\n",
      "for i in range(0,111,5):\n",
      "    id_lists.append(ids[i:i+5])"
     ],
     "language": "python",
     "metadata": {},
     "outputs": [],
     "prompt_number": 159
    },
    {
     "cell_type": "code",
     "collapsed": false,
     "input": [
      "id_lists[-1]"
     ],
     "language": "python",
     "metadata": {},
     "outputs": [
      {
       "metadata": {},
       "output_type": "pyout",
       "prompt_number": 163,
       "text": [
        "[u'6371719ca793050e7e43']"
       ]
      }
     ],
     "prompt_number": 163
    },
    {
     "cell_type": "code",
     "collapsed": false,
     "input": [
      "# import MongoDB modules\n",
      "from pymongo import MongoClient\n",
      "from bson.objectid import ObjectId\n",
      "\n",
      "# connect to the hosted MongoDB instance\n",
      "client = MongoClient('mongodb://localhost:27017/')\n",
      "\n",
      "# connect to the wikipedia database: if it does not exist it will automatically create it -- one reason why mongoDB can be nice.\n",
      "db = client.restaurants"
     ],
     "language": "python",
     "metadata": {},
     "outputs": [],
     "prompt_number": 164
    },
    {
     "cell_type": "code",
     "collapsed": false,
     "input": [
      "for item in id_lists:\n",
      "    print item"
     ],
     "language": "python",
     "metadata": {},
     "outputs": [
      {
       "output_type": "stream",
       "stream": "stdout",
       "text": [
        "[u'0d6420ef9825fd2e00ff', u'8a3d7ab187fcd777744d', u'55ae26fcae5d9461db29', u'16f61964ffc0e0d3d0a2', u'1da3345bb77bd14b87d8']\n",
        "[u'd09492062ce1ac6202ba', u'c3dcbc27f208377b6ca3', u'c3c6e822137449bc2001', u'8b66120521ccbe829cb0', u'bda841ac0d505ceed6ac']\n",
        "[u'5565bd49f17d19dff724', u'ed82ce4a5df02542b385', u'7534e62e89111159cb24', u'fea8758f92dba7ccaea3', u'124fcdb1a44d94806792']\n",
        "[u'a903f8a8142e5fa852a6', u'09c97cbbc97e94019e90', u'c13db71c3d85765c3939', u'b07ab7263a2d66292ab4', u'c394062eb57d0500e553']\n",
        "[u'f9a86143f76a66921587', u'7a1459731455d08fbd26', u'f202d5a09b5a57d2b7be', u'e8ee996188af2b2918ab', u'77c99bb592973c5fad67']\n",
        "[u'd135e55770710896eae0', u'ff3fecb08c778415b2be', u'caa7c50afa281634fadb', u'6a3a1188c26be9090140', u'779b15e8ec9d47f0210c']\n",
        "[u'242524f4d28e18f8c420', u'2feb385a70f4bc717424', u'145198d666fd26508f07', u'e12ad8c612b7557effff', u'44f1a23c22301f79f465']\n",
        "[u'c437f4ac9ce12e45fac4', u'bd1aeae29e5fe40531bd', u'2c76de53f429d1a6c965', u'3b05a7b12605ec163df3', u'a72a73c55bfcb1c91629']\n",
        "[u'67d513db4fbbd7aa07c6', u'd99cb7a1cf74428b296f', u'409d02515130f787bc0f', u'5ac5b99e759aa3dcd96e', u'6e5ebbc0d7e67b1f4435']\n",
        "[u'2c186634ec244e2d9e5f', u'95b918ccc423496a13ba', u'ab1168d3b964bbf251aa', u'786ce768346abcaaaca0', u'9e3e3607ec6af17b2762']\n",
        "[u'5414976f51b2f998ac14', u'05c4111e8fc2af51ca29', u'b52a1b8078a152f7ff73', u'fbc08dd530cd583406a3', u'2f8789710bff0982d35f']\n",
        "[u'b2e35567c92f9d0a580a', u'03704c603f6a5f522bf6', u'12d03e6c422f5cece5e2', u'7e8184a18b9a5ca35996', u'f301dd4ee228d609b497']\n",
        "[u'76320a5356d60362dbb9', u'b8922c20132839a903ad', u'cf7cfad114a5283dfc9c', u'1c8b3b3ae7e4a3a41120', u'bdc445eb9b6a0ad19ae3']\n",
        "[u'd9d8b2e048900986e07a', u'dd59b0fbeee9ba56255e', u'af3dacb50cda3a1775a6', u'1a419059733d37bbb3dd', u'd5ac30d6c6ac88b61c06']\n",
        "[u'4a76c37eb7dcb36c57a9', u'd5eb4c6cced2f2211022', u'3bdf837818f9aae84483', u'5d683acaa953a8da04a5', u'c1f0591d88312b19800b']\n",
        "[u'5edba998d60b8b841b8a', u'c252b7f7cbefe0762068', u'5550f15c91881677dbdc', u'5383e97d807be919cdd2', u'40b4a7f02e9f10a20d6c']\n",
        "[u'a35b8f2958f3f54b3343', u'1f191157b9f458b94d1d', u'694c4e57cb6126f449f9', u'3723b87870ce3846f4b0', u'46f25e61621ff4a37090']\n",
        "[u'7ff162aa66d7165a73d4', u'd05ffe3e6aeb8107022e', u'83a3c7fc3e65d02f3743', u'b991473784ba313678f4', u'51d81cfed3cf1d7ca32c']\n",
        "[u'0e98b77c93c0c5a5d08b', u'2ec85646fb25c5bb1668', u'ac20d7e0c30eba3773d8', u'4d67d324ace870352173', u'936a04494bb175acf768']\n",
        "[u'2ade2d3f702d7929c674', u'95d39520481af49cf261', u'f4f4c8def4abe6afe707', u'a45227fc05103f47652d', u'540661b86d887156e7df']\n",
        "[u'3b2d39caa189210a58c3', u'ee5baacdb1c71f47b88d', u'89594d1aee82d225637a', u'44fac6d3c3309c5ce584', u'cf196349973ba0e01d11']\n",
        "[u'cf02f30efd07a475e24f', u'2ee1548137f1a44d1f1a', u'b0e8b6e85ec1e889472d', u'caf2f98f89e740f5354e', u'4da1236319b24c183ab6']\n",
        "[u'6371719ca793050e7e43']\n"
       ]
      }
     ],
     "prompt_number": 170
    },
    {
     "cell_type": "code",
     "collapsed": false,
     "input": [
      "venue_client.get_details??"
     ],
     "language": "python",
     "metadata": {},
     "outputs": [],
     "prompt_number": 169
    },
    {
     "cell_type": "code",
     "collapsed": false,
     "input": [],
     "language": "python",
     "metadata": {},
     "outputs": []
    }
   ],
   "metadata": {}
  }
 ]
}