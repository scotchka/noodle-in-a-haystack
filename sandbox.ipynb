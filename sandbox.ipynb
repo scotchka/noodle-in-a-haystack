{
 "metadata": {
  "name": ""
 },
 "nbformat": 3,
 "nbformat_minor": 0,
 "worksheets": [
  {
   "cells": [
    {
     "cell_type": "code",
     "collapsed": false,
     "input": [
      "import numpy as np\n",
      "from sklearn.naive_bayes import MultinomialNB, BernoulliNB"
     ],
     "language": "python",
     "metadata": {},
     "outputs": [],
     "prompt_number": 139
    },
    {
     "cell_type": "code",
     "collapsed": false,
     "input": [
      "X1 = np.random.randint(3, size=(6, 100))\n",
      "y1 = np.array([1, 1, 1, 2, 2, 3])\n",
      "\n",
      "X2 = np.random.randint(3, size=(2, 100))\n",
      "y2 = np.array([1, 3])"
     ],
     "language": "python",
     "metadata": {},
     "outputs": [],
     "prompt_number": 203
    },
    {
     "cell_type": "code",
     "collapsed": false,
     "input": [
      "X = np.vstack((X1,X2))\n",
      "y = np.hstack((y1,y2))"
     ],
     "language": "python",
     "metadata": {},
     "outputs": [],
     "prompt_number": 204
    },
    {
     "cell_type": "code",
     "collapsed": false,
     "input": [
      "clf = MultinomialNB()"
     ],
     "language": "python",
     "metadata": {},
     "outputs": [],
     "prompt_number": 205
    },
    {
     "cell_type": "code",
     "collapsed": false,
     "input": [
      "clf.fit(X1,y1)"
     ],
     "language": "python",
     "metadata": {},
     "outputs": [
      {
       "metadata": {},
       "output_type": "pyout",
       "prompt_number": 206,
       "text": [
        "MultinomialNB(alpha=1.0, class_prior=None, fit_prior=True)"
       ]
      }
     ],
     "prompt_number": 206
    },
    {
     "cell_type": "code",
     "collapsed": false,
     "input": [
      "clf.partial_fit(X2,y2)"
     ],
     "language": "python",
     "metadata": {},
     "outputs": [
      {
       "metadata": {},
       "output_type": "pyout",
       "prompt_number": 207,
       "text": [
        "MultinomialNB(alpha=1.0, class_prior=None, fit_prior=True)"
       ]
      }
     ],
     "prompt_number": 207
    },
    {
     "cell_type": "code",
     "collapsed": false,
     "input": [
      "a = clf.feature_log_prob_"
     ],
     "language": "python",
     "metadata": {},
     "outputs": [],
     "prompt_number": 208
    },
    {
     "cell_type": "code",
     "collapsed": false,
     "input": [
      "clf.fit(X,y)\n",
      "b = clf.feature_log_prob_"
     ],
     "language": "python",
     "metadata": {},
     "outputs": [],
     "prompt_number": 209
    },
    {
     "cell_type": "code",
     "collapsed": false,
     "input": [
      "a.shape"
     ],
     "language": "python",
     "metadata": {},
     "outputs": [
      {
       "metadata": {},
       "output_type": "pyout",
       "prompt_number": 210,
       "text": [
        "(3, 100)"
       ]
      }
     ],
     "prompt_number": 210
    },
    {
     "cell_type": "code",
     "collapsed": false,
     "input": [
      "b.shape"
     ],
     "language": "python",
     "metadata": {},
     "outputs": [
      {
       "metadata": {},
       "output_type": "pyout",
       "prompt_number": 211,
       "text": [
        "(3, 100)"
       ]
      }
     ],
     "prompt_number": 211
    },
    {
     "cell_type": "code",
     "collapsed": false,
     "input": [
      "s = '''\n",
      "Four Season Vegetables------------------------------------------------------------------------------8.50\n",
      " \n",
      "        Orange Chicken----------------------------------------------------------------------------------------9.50\n",
      " \n",
      "     * General Tsao Chicken--------------------------------------------------------------------------------9.50\n",
      " \n",
      "        Honey Walnut Chicken-------------------------------------------------------------------------------9.50\n",
      " \n",
      "     * Mandarin Chicken-------------------------------------------------------------------------------------9.50\n",
      " \n",
      "        Sesame Chicken----------------------------------------------------------------------------------------9.50\n",
      " \n",
      "        Salt & Pepper Chicken or Chicken Wings(8)-----------------------------------------------------9.50\n",
      " \n",
      "     * Hot Spiced Tomato Sauce  Chicken----------------------------------------------------------------9.50\n",
      " \n",
      "        Chicken Lettuce Cup---------------------------------------------------------------------------------9.75\n",
      " \n",
      "     * Dry Cooked Asparagus-------------------------------------------------------------------------------9.75\n",
      " \n",
      "     * Hot Spiced Tomato Sauce Beef---------------------------------------------------------------------9.75\n",
      " \n",
      "        Orange Prawns---------------------------------------------------------------------------------------11.50\n",
      " \n",
      "        Salt & Pepper Prawns-------------------------------------------------------------------------------11.50\n",
      " \n",
      "     * Lovers Prawns----------------------------------------------------------------------------------------13.25\n",
      " \n",
      "        Happy Family------------------------------------------------------------------------------------------13.25\n",
      " \n",
      "     * Kung Pao Three Combo( Beef, Chicken & Prawns with Vegetable)------------------------13.25\n",
      " \n",
      "     * Stir Fried Prawns, Chicken & Beef with Szechuan Sauce-------------------------------------13.25\n",
      " \n",
      "     * Stir Fried Prawns, Chicken & Beef with Hot Spiced Tomato Sauce -----------------------13.25\n",
      "'''\n"
     ],
     "language": "python",
     "metadata": {},
     "outputs": [],
     "prompt_number": 8
    },
    {
     "cell_type": "code",
     "collapsed": false,
     "input": [
      "s.splitlines()"
     ],
     "language": "python",
     "metadata": {},
     "outputs": [
      {
       "metadata": {},
       "output_type": "pyout",
       "prompt_number": 13,
       "text": [
        "['',\n",
        " 'Four Season Vegetables------------------------------------------------------------------------------8.50',\n",
        " ' ',\n",
        " '        Orange Chicken----------------------------------------------------------------------------------------9.50',\n",
        " ' ',\n",
        " '     * General Tsao Chicken--------------------------------------------------------------------------------9.50',\n",
        " ' ',\n",
        " '        Honey Walnut Chicken-------------------------------------------------------------------------------9.50',\n",
        " ' ',\n",
        " '     * Mandarin Chicken-------------------------------------------------------------------------------------9.50',\n",
        " ' ',\n",
        " '        Sesame Chicken----------------------------------------------------------------------------------------9.50',\n",
        " ' ',\n",
        " '        Salt & Pepper Chicken or Chicken Wings(8)-----------------------------------------------------9.50',\n",
        " ' ',\n",
        " '     * Hot Spiced Tomato Sauce  Chicken----------------------------------------------------------------9.50',\n",
        " ' ',\n",
        " '        Chicken Lettuce Cup---------------------------------------------------------------------------------9.75',\n",
        " ' ',\n",
        " '     * Dry Cooked Asparagus-------------------------------------------------------------------------------9.75',\n",
        " ' ',\n",
        " '     * Hot Spiced Tomato Sauce Beef---------------------------------------------------------------------9.75',\n",
        " ' ',\n",
        " '        Orange Prawns---------------------------------------------------------------------------------------11.50',\n",
        " ' ',\n",
        " '        Salt & Pepper Prawns-------------------------------------------------------------------------------11.50',\n",
        " ' ',\n",
        " '     * Lovers Prawns----------------------------------------------------------------------------------------13.25',\n",
        " ' ',\n",
        " '        Happy Family------------------------------------------------------------------------------------------13.25',\n",
        " ' ',\n",
        " '     * Kung Pao Three Combo( Beef, Chicken & Prawns with Vegetable)------------------------13.25',\n",
        " ' ',\n",
        " '     * Stir Fried Prawns, Chicken & Beef with Szechuan Sauce-------------------------------------13.25',\n",
        " ' ',\n",
        " '     * Stir Fried Prawns, Chicken & Beef with Hot Spiced Tomato Sauce -----------------------13.25']"
       ]
      }
     ],
     "prompt_number": 13
    },
    {
     "cell_type": "code",
     "collapsed": false,
     "input": [
      "import fuzzy"
     ],
     "language": "python",
     "metadata": {},
     "outputs": [],
     "prompt_number": 11
    },
    {
     "cell_type": "code",
     "collapsed": false,
     "input": [
      "[fuzzy.nysiis(item) for item in s.splitlines()]"
     ],
     "language": "python",
     "metadata": {},
     "outputs": [
      {
       "metadata": {},
       "output_type": "pyout",
       "prompt_number": 14,
       "text": [
        "['',\n",
        " 'FARSASANVAGATABL',\n",
        " '',\n",
        " 'ORANGACACAN',\n",
        " '',\n",
        " 'GANARALTSACACAN',\n",
        " '',\n",
        " 'HANYWALNATCACAN',\n",
        " '',\n",
        " 'MANDARANCACAN',\n",
        " '',\n",
        " 'SASANACACAN',\n",
        " '',\n",
        " 'SALTPAPARCACANARCACANWANG',\n",
        " '',\n",
        " 'HATSPACADTANATASACACACAN',\n",
        " '',\n",
        " 'CACANLATACACAP',\n",
        " '',\n",
        " 'DRACACADASPARAG',\n",
        " '',\n",
        " 'HATSPACADTANATASACABAF',\n",
        " '',\n",
        " 'ORANGAPRAN',\n",
        " '',\n",
        " 'SALTPAPARPRAN',\n",
        " '',\n",
        " 'LAVARSPRAN',\n",
        " '',\n",
        " 'HAPAFANALY',\n",
        " '',\n",
        " 'CANGPATHRACANBABAFCACANPRANSWATHVAGATABL',\n",
        " '',\n",
        " 'STARFRADPRANSACANBAFWATHSACANSAC',\n",
        " '',\n",
        " 'STARFRADPRANSACANBAFWATHATSPACADTANATASAC']"
       ]
      }
     ],
     "prompt_number": 14
    },
    {
     "cell_type": "code",
     "collapsed": false,
     "input": [],
     "language": "python",
     "metadata": {},
     "outputs": []
    }
   ],
   "metadata": {}
  }
 ]
}